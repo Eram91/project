{
 "cells": [
  {
   "cell_type": "markdown",
   "id": "9267d94b",
   "metadata": {},
   "source": [
    "***AVACADO PROJECT***"
   ]
  },
  {
   "cell_type": "markdown",
   "id": "653c2274",
   "metadata": {},
   "source": [
    "***Importing Necessary Libraries***"
   ]
  },
  {
   "cell_type": "code",
   "execution_count": 117,
   "id": "61512e89",
   "metadata": {},
   "outputs": [],
   "source": [
    "import pandas as pd\n",
    "import numpy as np\n",
    "import seaborn as sns\n",
    "import matplotlib.pyplot as plt\n",
    "\n",
    "from scipy.stats import zscore\n",
    "from sklearn.preprocessing import OrdinalEncoder\n",
    "from sklearn.preprocessing import StandardScaler\n",
    "from sklearn.model_selection import train_test_split\n",
    "from sklearn.linear_model import LinearRegression, Ridge, Lasso\n",
    "from sklearn.svm import SVR\n",
    "from sklearn.tree import DecisionTreeRegressor\n",
    "from sklearn.ensemble import RandomForestRegressor\n",
    "from sklearn.neighbors import KNeighborsRegressor\n",
    "from sklearn.ensemble import AdaBoostRegressor\n",
    "from sklearn.ensemble import ExtraTreesRegressor\n",
    "\n",
    "\n",
    "from sklearn.metrics import r2_score\n",
    "from sklearn.metrics import mean_squared_error\n",
    "from sklearn.model_selection import cross_val_score\n",
    "from sklearn.model_selection import GridSearchCV\n",
    "from xgboost import XGBRegressor\n",
    "import pickle\n",
    "\n",
    "import warnings\n",
    "warnings.simplefilter(\"ignore\")\n",
    "warnings.filterwarnings(\"ignore\")\n"
   ]
  },
  {
   "cell_type": "markdown",
   "id": "615a422e",
   "metadata": {},
   "source": [
    "***Importing Data set***"
   ]
  },
  {
   "cell_type": "code",
   "execution_count": 4,
   "id": "9c3ea0b9",
   "metadata": {},
   "outputs": [
    {
     "data": {
      "text/html": [
       "<div>\n",
       "<style scoped>\n",
       "    .dataframe tbody tr th:only-of-type {\n",
       "        vertical-align: middle;\n",
       "    }\n",
       "\n",
       "    .dataframe tbody tr th {\n",
       "        vertical-align: top;\n",
       "    }\n",
       "\n",
       "    .dataframe thead th {\n",
       "        text-align: right;\n",
       "    }\n",
       "</style>\n",
       "<table border=\"1\" class=\"dataframe\">\n",
       "  <thead>\n",
       "    <tr style=\"text-align: right;\">\n",
       "      <th></th>\n",
       "      <th>Unnamed: 0</th>\n",
       "      <th>Date</th>\n",
       "      <th>AveragePrice</th>\n",
       "      <th>Total Volume</th>\n",
       "      <th>4046</th>\n",
       "      <th>4225</th>\n",
       "      <th>4770</th>\n",
       "      <th>Total Bags</th>\n",
       "      <th>Small Bags</th>\n",
       "      <th>Large Bags</th>\n",
       "      <th>XLarge Bags</th>\n",
       "      <th>type</th>\n",
       "      <th>year</th>\n",
       "      <th>region</th>\n",
       "    </tr>\n",
       "  </thead>\n",
       "  <tbody>\n",
       "    <tr>\n",
       "      <th>0</th>\n",
       "      <td>0.0</td>\n",
       "      <td>27-12-2015</td>\n",
       "      <td>1.33</td>\n",
       "      <td>64236.62</td>\n",
       "      <td>1036.74</td>\n",
       "      <td>54454.85</td>\n",
       "      <td>48.16</td>\n",
       "      <td>8696.87</td>\n",
       "      <td>8603.62</td>\n",
       "      <td>93.25</td>\n",
       "      <td>0.0</td>\n",
       "      <td>conventional</td>\n",
       "      <td>2015.0</td>\n",
       "      <td>Albany</td>\n",
       "    </tr>\n",
       "    <tr>\n",
       "      <th>1</th>\n",
       "      <td>1.0</td>\n",
       "      <td>20-12-2015</td>\n",
       "      <td>1.35</td>\n",
       "      <td>54876.98</td>\n",
       "      <td>674.28</td>\n",
       "      <td>44638.81</td>\n",
       "      <td>58.33</td>\n",
       "      <td>9505.56</td>\n",
       "      <td>9408.07</td>\n",
       "      <td>97.49</td>\n",
       "      <td>0.0</td>\n",
       "      <td>conventional</td>\n",
       "      <td>2015.0</td>\n",
       "      <td>Albany</td>\n",
       "    </tr>\n",
       "    <tr>\n",
       "      <th>2</th>\n",
       "      <td>2.0</td>\n",
       "      <td>13-12-2015</td>\n",
       "      <td>0.93</td>\n",
       "      <td>118220.22</td>\n",
       "      <td>794.70</td>\n",
       "      <td>109149.67</td>\n",
       "      <td>130.50</td>\n",
       "      <td>8145.35</td>\n",
       "      <td>8042.21</td>\n",
       "      <td>103.14</td>\n",
       "      <td>0.0</td>\n",
       "      <td>conventional</td>\n",
       "      <td>2015.0</td>\n",
       "      <td>Albany</td>\n",
       "    </tr>\n",
       "    <tr>\n",
       "      <th>3</th>\n",
       "      <td>3.0</td>\n",
       "      <td>06-12-2015</td>\n",
       "      <td>1.08</td>\n",
       "      <td>78992.15</td>\n",
       "      <td>1132.00</td>\n",
       "      <td>71976.41</td>\n",
       "      <td>72.58</td>\n",
       "      <td>5811.16</td>\n",
       "      <td>5677.40</td>\n",
       "      <td>133.76</td>\n",
       "      <td>0.0</td>\n",
       "      <td>conventional</td>\n",
       "      <td>2015.0</td>\n",
       "      <td>Albany</td>\n",
       "    </tr>\n",
       "    <tr>\n",
       "      <th>4</th>\n",
       "      <td>4.0</td>\n",
       "      <td>29-11-2015</td>\n",
       "      <td>1.28</td>\n",
       "      <td>51039.60</td>\n",
       "      <td>941.48</td>\n",
       "      <td>43838.39</td>\n",
       "      <td>75.78</td>\n",
       "      <td>6183.95</td>\n",
       "      <td>5986.26</td>\n",
       "      <td>197.69</td>\n",
       "      <td>0.0</td>\n",
       "      <td>conventional</td>\n",
       "      <td>2015.0</td>\n",
       "      <td>Albany</td>\n",
       "    </tr>\n",
       "    <tr>\n",
       "      <th>...</th>\n",
       "      <td>...</td>\n",
       "      <td>...</td>\n",
       "      <td>...</td>\n",
       "      <td>...</td>\n",
       "      <td>...</td>\n",
       "      <td>...</td>\n",
       "      <td>...</td>\n",
       "      <td>...</td>\n",
       "      <td>...</td>\n",
       "      <td>...</td>\n",
       "      <td>...</td>\n",
       "      <td>...</td>\n",
       "      <td>...</td>\n",
       "      <td>...</td>\n",
       "    </tr>\n",
       "    <tr>\n",
       "      <th>16463</th>\n",
       "      <td>NaN</td>\n",
       "      <td>NaN</td>\n",
       "      <td>NaN</td>\n",
       "      <td>NaN</td>\n",
       "      <td>NaN</td>\n",
       "      <td>NaN</td>\n",
       "      <td>NaN</td>\n",
       "      <td>NaN</td>\n",
       "      <td>NaN</td>\n",
       "      <td>NaN</td>\n",
       "      <td>NaN</td>\n",
       "      <td>NaN</td>\n",
       "      <td>NaN</td>\n",
       "      <td>NaN</td>\n",
       "    </tr>\n",
       "    <tr>\n",
       "      <th>16464</th>\n",
       "      <td>NaN</td>\n",
       "      <td>NaN</td>\n",
       "      <td>NaN</td>\n",
       "      <td>NaN</td>\n",
       "      <td>NaN</td>\n",
       "      <td>NaN</td>\n",
       "      <td>NaN</td>\n",
       "      <td>NaN</td>\n",
       "      <td>NaN</td>\n",
       "      <td>NaN</td>\n",
       "      <td>NaN</td>\n",
       "      <td>NaN</td>\n",
       "      <td>NaN</td>\n",
       "      <td>NaN</td>\n",
       "    </tr>\n",
       "    <tr>\n",
       "      <th>16465</th>\n",
       "      <td>NaN</td>\n",
       "      <td>NaN</td>\n",
       "      <td>NaN</td>\n",
       "      <td>NaN</td>\n",
       "      <td>NaN</td>\n",
       "      <td>NaN</td>\n",
       "      <td>NaN</td>\n",
       "      <td>NaN</td>\n",
       "      <td>NaN</td>\n",
       "      <td>NaN</td>\n",
       "      <td>NaN</td>\n",
       "      <td>NaN</td>\n",
       "      <td>NaN</td>\n",
       "      <td>NaN</td>\n",
       "    </tr>\n",
       "    <tr>\n",
       "      <th>16466</th>\n",
       "      <td>NaN</td>\n",
       "      <td>NaN</td>\n",
       "      <td>NaN</td>\n",
       "      <td>NaN</td>\n",
       "      <td>NaN</td>\n",
       "      <td>NaN</td>\n",
       "      <td>NaN</td>\n",
       "      <td>NaN</td>\n",
       "      <td>NaN</td>\n",
       "      <td>NaN</td>\n",
       "      <td>NaN</td>\n",
       "      <td>NaN</td>\n",
       "      <td>NaN</td>\n",
       "      <td>NaN</td>\n",
       "    </tr>\n",
       "    <tr>\n",
       "      <th>16467</th>\n",
       "      <td>NaN</td>\n",
       "      <td>NaN</td>\n",
       "      <td>NaN</td>\n",
       "      <td>NaN</td>\n",
       "      <td>NaN</td>\n",
       "      <td>NaN</td>\n",
       "      <td>NaN</td>\n",
       "      <td>NaN</td>\n",
       "      <td>NaN</td>\n",
       "      <td>NaN</td>\n",
       "      <td>NaN</td>\n",
       "      <td>NaN</td>\n",
       "      <td>NaN</td>\n",
       "      <td>NaN</td>\n",
       "    </tr>\n",
       "  </tbody>\n",
       "</table>\n",
       "<p>16468 rows × 14 columns</p>\n",
       "</div>"
      ],
      "text/plain": [
       "       Unnamed: 0        Date  AveragePrice  Total Volume     4046       4225  \\\n",
       "0             0.0  27-12-2015          1.33      64236.62  1036.74   54454.85   \n",
       "1             1.0  20-12-2015          1.35      54876.98   674.28   44638.81   \n",
       "2             2.0  13-12-2015          0.93     118220.22   794.70  109149.67   \n",
       "3             3.0  06-12-2015          1.08      78992.15  1132.00   71976.41   \n",
       "4             4.0  29-11-2015          1.28      51039.60   941.48   43838.39   \n",
       "...           ...         ...           ...           ...      ...        ...   \n",
       "16463         NaN         NaN           NaN           NaN      NaN        NaN   \n",
       "16464         NaN         NaN           NaN           NaN      NaN        NaN   \n",
       "16465         NaN         NaN           NaN           NaN      NaN        NaN   \n",
       "16466         NaN         NaN           NaN           NaN      NaN        NaN   \n",
       "16467         NaN         NaN           NaN           NaN      NaN        NaN   \n",
       "\n",
       "         4770  Total Bags  Small Bags  Large Bags  XLarge Bags          type  \\\n",
       "0       48.16     8696.87     8603.62       93.25          0.0  conventional   \n",
       "1       58.33     9505.56     9408.07       97.49          0.0  conventional   \n",
       "2      130.50     8145.35     8042.21      103.14          0.0  conventional   \n",
       "3       72.58     5811.16     5677.40      133.76          0.0  conventional   \n",
       "4       75.78     6183.95     5986.26      197.69          0.0  conventional   \n",
       "...       ...         ...         ...         ...          ...           ...   \n",
       "16463     NaN         NaN         NaN         NaN          NaN           NaN   \n",
       "16464     NaN         NaN         NaN         NaN          NaN           NaN   \n",
       "16465     NaN         NaN         NaN         NaN          NaN           NaN   \n",
       "16466     NaN         NaN         NaN         NaN          NaN           NaN   \n",
       "16467     NaN         NaN         NaN         NaN          NaN           NaN   \n",
       "\n",
       "         year  region  \n",
       "0      2015.0  Albany  \n",
       "1      2015.0  Albany  \n",
       "2      2015.0  Albany  \n",
       "3      2015.0  Albany  \n",
       "4      2015.0  Albany  \n",
       "...       ...     ...  \n",
       "16463     NaN     NaN  \n",
       "16464     NaN     NaN  \n",
       "16465     NaN     NaN  \n",
       "16466     NaN     NaN  \n",
       "16467     NaN     NaN  \n",
       "\n",
       "[16468 rows x 14 columns]"
      ]
     },
     "execution_count": 4,
     "metadata": {},
     "output_type": "execute_result"
    }
   ],
   "source": [
    "df = pd.read_csv(\"https://raw.githubusercontent.com/dsrscientist/Data-Science-ML-Capstone-Projects/master/avocado.csv\")\n",
    "df"
   ]
  },
  {
   "cell_type": "markdown",
   "id": "1fc31f8b",
   "metadata": {},
   "source": [
    "***performing EDA***"
   ]
  },
  {
   "cell_type": "code",
   "execution_count": 5,
   "id": "abe31fc6",
   "metadata": {},
   "outputs": [
    {
     "data": {
      "text/plain": [
       "(16468, 14)"
      ]
     },
     "execution_count": 5,
     "metadata": {},
     "output_type": "execute_result"
    }
   ],
   "source": [
    "df.shape"
   ]
  },
  {
   "cell_type": "code",
   "execution_count": 6,
   "id": "a6ea6904",
   "metadata": {},
   "outputs": [
    {
     "data": {
      "text/plain": [
       "Unnamed: 0      14951\n",
       "Date            14951\n",
       "AveragePrice    14951\n",
       "Total Volume    14951\n",
       "4046            14951\n",
       "4225            14951\n",
       "4770            14951\n",
       "Total Bags      14951\n",
       "Small Bags      14951\n",
       "Large Bags      14951\n",
       "XLarge Bags     14951\n",
       "type            14951\n",
       "year            14951\n",
       "region          14951\n",
       "dtype: int64"
      ]
     },
     "execution_count": 6,
     "metadata": {},
     "output_type": "execute_result"
    }
   ],
   "source": [
    "df.isnull().sum()"
   ]
  },
  {
   "cell_type": "code",
   "execution_count": 7,
   "id": "a3c552ec",
   "metadata": {},
   "outputs": [],
   "source": [
    "df.dropna(inplace=True)"
   ]
  },
  {
   "cell_type": "code",
   "execution_count": 8,
   "id": "56ab01d0",
   "metadata": {},
   "outputs": [
    {
     "data": {
      "text/plain": [
       "(1517, 14)"
      ]
     },
     "execution_count": 8,
     "metadata": {},
     "output_type": "execute_result"
    }
   ],
   "source": [
    "df.shape"
   ]
  },
  {
   "cell_type": "code",
   "execution_count": 9,
   "id": "a80c8af0",
   "metadata": {},
   "outputs": [
    {
     "name": "stdout",
     "output_type": "stream",
     "text": [
      "<class 'pandas.core.frame.DataFrame'>\n",
      "Int64Index: 1517 entries, 0 to 1516\n",
      "Data columns (total 14 columns):\n",
      " #   Column        Non-Null Count  Dtype  \n",
      "---  ------        --------------  -----  \n",
      " 0   Unnamed: 0    1517 non-null   float64\n",
      " 1   Date          1517 non-null   object \n",
      " 2   AveragePrice  1517 non-null   float64\n",
      " 3   Total Volume  1517 non-null   float64\n",
      " 4   4046          1517 non-null   float64\n",
      " 5   4225          1517 non-null   float64\n",
      " 6   4770          1517 non-null   float64\n",
      " 7   Total Bags    1517 non-null   float64\n",
      " 8   Small Bags    1517 non-null   float64\n",
      " 9   Large Bags    1517 non-null   float64\n",
      " 10  XLarge Bags   1517 non-null   float64\n",
      " 11  type          1517 non-null   object \n",
      " 12  year          1517 non-null   float64\n",
      " 13  region        1517 non-null   object \n",
      "dtypes: float64(11), object(3)\n",
      "memory usage: 177.8+ KB\n"
     ]
    }
   ],
   "source": [
    "df.info()"
   ]
  },
  {
   "cell_type": "code",
   "execution_count": 10,
   "id": "cd6235c7",
   "metadata": {
    "scrolled": true
   },
   "outputs": [
    {
     "data": {
      "text/html": [
       "<div>\n",
       "<style scoped>\n",
       "    .dataframe tbody tr th:only-of-type {\n",
       "        vertical-align: middle;\n",
       "    }\n",
       "\n",
       "    .dataframe tbody tr th {\n",
       "        vertical-align: top;\n",
       "    }\n",
       "\n",
       "    .dataframe thead th {\n",
       "        text-align: right;\n",
       "    }\n",
       "</style>\n",
       "<table border=\"1\" class=\"dataframe\">\n",
       "  <thead>\n",
       "    <tr style=\"text-align: right;\">\n",
       "      <th></th>\n",
       "      <th>Unnamed: 0</th>\n",
       "      <th>AveragePrice</th>\n",
       "      <th>Total Volume</th>\n",
       "      <th>4046</th>\n",
       "      <th>4225</th>\n",
       "      <th>4770</th>\n",
       "      <th>Total Bags</th>\n",
       "      <th>Small Bags</th>\n",
       "      <th>Large Bags</th>\n",
       "      <th>XLarge Bags</th>\n",
       "      <th>year</th>\n",
       "    </tr>\n",
       "  </thead>\n",
       "  <tbody>\n",
       "    <tr>\n",
       "      <th>count</th>\n",
       "      <td>1517.000000</td>\n",
       "      <td>1517.000000</td>\n",
       "      <td>1.517000e+03</td>\n",
       "      <td>1.517000e+03</td>\n",
       "      <td>1.517000e+03</td>\n",
       "      <td>1.517000e+03</td>\n",
       "      <td>1.517000e+03</td>\n",
       "      <td>1.517000e+03</td>\n",
       "      <td>1.517000e+03</td>\n",
       "      <td>1517.000000</td>\n",
       "      <td>1517.000000</td>\n",
       "    </tr>\n",
       "    <tr>\n",
       "      <th>mean</th>\n",
       "      <td>26.995386</td>\n",
       "      <td>1.074990</td>\n",
       "      <td>1.601879e+06</td>\n",
       "      <td>6.464387e+05</td>\n",
       "      <td>6.114375e+05</td>\n",
       "      <td>5.040550e+04</td>\n",
       "      <td>2.935974e+05</td>\n",
       "      <td>2.487736e+05</td>\n",
       "      <td>4.264205e+04</td>\n",
       "      <td>2181.771074</td>\n",
       "      <td>2015.162821</td>\n",
       "    </tr>\n",
       "    <tr>\n",
       "      <th>std</th>\n",
       "      <td>14.848287</td>\n",
       "      <td>0.188891</td>\n",
       "      <td>4.433143e+06</td>\n",
       "      <td>1.947614e+06</td>\n",
       "      <td>1.672906e+06</td>\n",
       "      <td>1.377812e+05</td>\n",
       "      <td>7.579765e+05</td>\n",
       "      <td>6.474765e+05</td>\n",
       "      <td>1.182157e+05</td>\n",
       "      <td>7455.712144</td>\n",
       "      <td>0.369324</td>\n",
       "    </tr>\n",
       "    <tr>\n",
       "      <th>min</th>\n",
       "      <td>0.000000</td>\n",
       "      <td>0.490000</td>\n",
       "      <td>3.875074e+04</td>\n",
       "      <td>4.677200e+02</td>\n",
       "      <td>1.783770e+03</td>\n",
       "      <td>0.000000e+00</td>\n",
       "      <td>3.311770e+03</td>\n",
       "      <td>3.311770e+03</td>\n",
       "      <td>0.000000e+00</td>\n",
       "      <td>0.000000</td>\n",
       "      <td>2015.000000</td>\n",
       "    </tr>\n",
       "    <tr>\n",
       "      <th>25%</th>\n",
       "      <td>14.000000</td>\n",
       "      <td>0.980000</td>\n",
       "      <td>1.474700e+05</td>\n",
       "      <td>2.040034e+04</td>\n",
       "      <td>4.147606e+04</td>\n",
       "      <td>9.112500e+02</td>\n",
       "      <td>3.620689e+04</td>\n",
       "      <td>2.972722e+04</td>\n",
       "      <td>5.407400e+02</td>\n",
       "      <td>0.000000</td>\n",
       "      <td>2015.000000</td>\n",
       "    </tr>\n",
       "    <tr>\n",
       "      <th>50%</th>\n",
       "      <td>29.000000</td>\n",
       "      <td>1.080000</td>\n",
       "      <td>4.027919e+05</td>\n",
       "      <td>8.175117e+04</td>\n",
       "      <td>1.186649e+05</td>\n",
       "      <td>7.688170e+03</td>\n",
       "      <td>7.397906e+04</td>\n",
       "      <td>6.237569e+04</td>\n",
       "      <td>5.044350e+03</td>\n",
       "      <td>0.000000</td>\n",
       "      <td>2015.000000</td>\n",
       "    </tr>\n",
       "    <tr>\n",
       "      <th>75%</th>\n",
       "      <td>39.000000</td>\n",
       "      <td>1.190000</td>\n",
       "      <td>9.819751e+05</td>\n",
       "      <td>3.775785e+05</td>\n",
       "      <td>4.851503e+05</td>\n",
       "      <td>2.916730e+04</td>\n",
       "      <td>1.576097e+05</td>\n",
       "      <td>1.461994e+05</td>\n",
       "      <td>2.926767e+04</td>\n",
       "      <td>401.480000</td>\n",
       "      <td>2015.000000</td>\n",
       "    </tr>\n",
       "    <tr>\n",
       "      <th>max</th>\n",
       "      <td>51.000000</td>\n",
       "      <td>1.680000</td>\n",
       "      <td>4.465546e+07</td>\n",
       "      <td>1.893304e+07</td>\n",
       "      <td>1.895648e+07</td>\n",
       "      <td>1.381516e+06</td>\n",
       "      <td>6.736304e+06</td>\n",
       "      <td>5.893642e+06</td>\n",
       "      <td>1.121076e+06</td>\n",
       "      <td>108072.790000</td>\n",
       "      <td>2016.000000</td>\n",
       "    </tr>\n",
       "  </tbody>\n",
       "</table>\n",
       "</div>"
      ],
      "text/plain": [
       "        Unnamed: 0  AveragePrice  Total Volume          4046          4225  \\\n",
       "count  1517.000000   1517.000000  1.517000e+03  1.517000e+03  1.517000e+03   \n",
       "mean     26.995386      1.074990  1.601879e+06  6.464387e+05  6.114375e+05   \n",
       "std      14.848287      0.188891  4.433143e+06  1.947614e+06  1.672906e+06   \n",
       "min       0.000000      0.490000  3.875074e+04  4.677200e+02  1.783770e+03   \n",
       "25%      14.000000      0.980000  1.474700e+05  2.040034e+04  4.147606e+04   \n",
       "50%      29.000000      1.080000  4.027919e+05  8.175117e+04  1.186649e+05   \n",
       "75%      39.000000      1.190000  9.819751e+05  3.775785e+05  4.851503e+05   \n",
       "max      51.000000      1.680000  4.465546e+07  1.893304e+07  1.895648e+07   \n",
       "\n",
       "               4770    Total Bags    Small Bags    Large Bags    XLarge Bags  \\\n",
       "count  1.517000e+03  1.517000e+03  1.517000e+03  1.517000e+03    1517.000000   \n",
       "mean   5.040550e+04  2.935974e+05  2.487736e+05  4.264205e+04    2181.771074   \n",
       "std    1.377812e+05  7.579765e+05  6.474765e+05  1.182157e+05    7455.712144   \n",
       "min    0.000000e+00  3.311770e+03  3.311770e+03  0.000000e+00       0.000000   \n",
       "25%    9.112500e+02  3.620689e+04  2.972722e+04  5.407400e+02       0.000000   \n",
       "50%    7.688170e+03  7.397906e+04  6.237569e+04  5.044350e+03       0.000000   \n",
       "75%    2.916730e+04  1.576097e+05  1.461994e+05  2.926767e+04     401.480000   \n",
       "max    1.381516e+06  6.736304e+06  5.893642e+06  1.121076e+06  108072.790000   \n",
       "\n",
       "              year  \n",
       "count  1517.000000  \n",
       "mean   2015.162821  \n",
       "std       0.369324  \n",
       "min    2015.000000  \n",
       "25%    2015.000000  \n",
       "50%    2015.000000  \n",
       "75%    2015.000000  \n",
       "max    2016.000000  "
      ]
     },
     "execution_count": 10,
     "metadata": {},
     "output_type": "execute_result"
    }
   ],
   "source": [
    "df.describe()"
   ]
  },
  {
   "cell_type": "markdown",
   "id": "22184ccb",
   "metadata": {},
   "source": [
    "observation\n",
    "no missing values\n",
    "11 numerical columns and 3 object columns\n",
    "some features are not distributed normally, are close to normality\n",
    "each feature has different scale range\n",
    "some of the columns providing information about bag are not used for predictions ,better to drop them\n",
    "unnamed:0 is also not useful to prediction, its giving info about index\n",
    "    "
   ]
  },
  {
   "cell_type": "code",
   "execution_count": 11,
   "id": "20400fa5",
   "metadata": {},
   "outputs": [],
   "source": [
    "df.drop(['Unnamed: 0','XLarge Bags','Small Bags','Total Bags','Large Bags'], axis=1, inplace= True)"
   ]
  },
  {
   "cell_type": "code",
   "execution_count": 12,
   "id": "c4636606",
   "metadata": {},
   "outputs": [
    {
     "data": {
      "text/plain": [
       "(1517, 9)"
      ]
     },
     "execution_count": 12,
     "metadata": {},
     "output_type": "execute_result"
    }
   ],
   "source": [
    "df.shape"
   ]
  },
  {
   "cell_type": "code",
   "execution_count": 13,
   "id": "53d2ade7",
   "metadata": {},
   "outputs": [
    {
     "data": {
      "text/html": [
       "<div>\n",
       "<style scoped>\n",
       "    .dataframe tbody tr th:only-of-type {\n",
       "        vertical-align: middle;\n",
       "    }\n",
       "\n",
       "    .dataframe tbody tr th {\n",
       "        vertical-align: top;\n",
       "    }\n",
       "\n",
       "    .dataframe thead th {\n",
       "        text-align: right;\n",
       "    }\n",
       "</style>\n",
       "<table border=\"1\" class=\"dataframe\">\n",
       "  <thead>\n",
       "    <tr style=\"text-align: right;\">\n",
       "      <th></th>\n",
       "      <th>AveragePrice</th>\n",
       "      <th>Total Volume</th>\n",
       "      <th>4046</th>\n",
       "      <th>4225</th>\n",
       "      <th>4770</th>\n",
       "      <th>year</th>\n",
       "    </tr>\n",
       "  </thead>\n",
       "  <tbody>\n",
       "    <tr>\n",
       "      <th>count</th>\n",
       "      <td>1517.000000</td>\n",
       "      <td>1.517000e+03</td>\n",
       "      <td>1.517000e+03</td>\n",
       "      <td>1.517000e+03</td>\n",
       "      <td>1.517000e+03</td>\n",
       "      <td>1517.000000</td>\n",
       "    </tr>\n",
       "    <tr>\n",
       "      <th>mean</th>\n",
       "      <td>1.074990</td>\n",
       "      <td>1.601879e+06</td>\n",
       "      <td>6.464387e+05</td>\n",
       "      <td>6.114375e+05</td>\n",
       "      <td>5.040550e+04</td>\n",
       "      <td>2015.162821</td>\n",
       "    </tr>\n",
       "    <tr>\n",
       "      <th>std</th>\n",
       "      <td>0.188891</td>\n",
       "      <td>4.433143e+06</td>\n",
       "      <td>1.947614e+06</td>\n",
       "      <td>1.672906e+06</td>\n",
       "      <td>1.377812e+05</td>\n",
       "      <td>0.369324</td>\n",
       "    </tr>\n",
       "    <tr>\n",
       "      <th>min</th>\n",
       "      <td>0.490000</td>\n",
       "      <td>3.875074e+04</td>\n",
       "      <td>4.677200e+02</td>\n",
       "      <td>1.783770e+03</td>\n",
       "      <td>0.000000e+00</td>\n",
       "      <td>2015.000000</td>\n",
       "    </tr>\n",
       "    <tr>\n",
       "      <th>25%</th>\n",
       "      <td>0.980000</td>\n",
       "      <td>1.474700e+05</td>\n",
       "      <td>2.040034e+04</td>\n",
       "      <td>4.147606e+04</td>\n",
       "      <td>9.112500e+02</td>\n",
       "      <td>2015.000000</td>\n",
       "    </tr>\n",
       "    <tr>\n",
       "      <th>50%</th>\n",
       "      <td>1.080000</td>\n",
       "      <td>4.027919e+05</td>\n",
       "      <td>8.175117e+04</td>\n",
       "      <td>1.186649e+05</td>\n",
       "      <td>7.688170e+03</td>\n",
       "      <td>2015.000000</td>\n",
       "    </tr>\n",
       "    <tr>\n",
       "      <th>75%</th>\n",
       "      <td>1.190000</td>\n",
       "      <td>9.819751e+05</td>\n",
       "      <td>3.775785e+05</td>\n",
       "      <td>4.851503e+05</td>\n",
       "      <td>2.916730e+04</td>\n",
       "      <td>2015.000000</td>\n",
       "    </tr>\n",
       "    <tr>\n",
       "      <th>max</th>\n",
       "      <td>1.680000</td>\n",
       "      <td>4.465546e+07</td>\n",
       "      <td>1.893304e+07</td>\n",
       "      <td>1.895648e+07</td>\n",
       "      <td>1.381516e+06</td>\n",
       "      <td>2016.000000</td>\n",
       "    </tr>\n",
       "  </tbody>\n",
       "</table>\n",
       "</div>"
      ],
      "text/plain": [
       "       AveragePrice  Total Volume          4046          4225          4770  \\\n",
       "count   1517.000000  1.517000e+03  1.517000e+03  1.517000e+03  1.517000e+03   \n",
       "mean       1.074990  1.601879e+06  6.464387e+05  6.114375e+05  5.040550e+04   \n",
       "std        0.188891  4.433143e+06  1.947614e+06  1.672906e+06  1.377812e+05   \n",
       "min        0.490000  3.875074e+04  4.677200e+02  1.783770e+03  0.000000e+00   \n",
       "25%        0.980000  1.474700e+05  2.040034e+04  4.147606e+04  9.112500e+02   \n",
       "50%        1.080000  4.027919e+05  8.175117e+04  1.186649e+05  7.688170e+03   \n",
       "75%        1.190000  9.819751e+05  3.775785e+05  4.851503e+05  2.916730e+04   \n",
       "max        1.680000  4.465546e+07  1.893304e+07  1.895648e+07  1.381516e+06   \n",
       "\n",
       "              year  \n",
       "count  1517.000000  \n",
       "mean   2015.162821  \n",
       "std       0.369324  \n",
       "min    2015.000000  \n",
       "25%    2015.000000  \n",
       "50%    2015.000000  \n",
       "75%    2015.000000  \n",
       "max    2016.000000  "
      ]
     },
     "execution_count": 13,
     "metadata": {},
     "output_type": "execute_result"
    }
   ],
   "source": [
    "df.describe()"
   ]
  },
  {
   "cell_type": "code",
   "execution_count": 14,
   "id": "025d9ce0",
   "metadata": {},
   "outputs": [
    {
     "data": {
      "text/html": [
       "<div>\n",
       "<style scoped>\n",
       "    .dataframe tbody tr th:only-of-type {\n",
       "        vertical-align: middle;\n",
       "    }\n",
       "\n",
       "    .dataframe tbody tr th {\n",
       "        vertical-align: top;\n",
       "    }\n",
       "\n",
       "    .dataframe thead th {\n",
       "        text-align: right;\n",
       "    }\n",
       "</style>\n",
       "<table border=\"1\" class=\"dataframe\">\n",
       "  <thead>\n",
       "    <tr style=\"text-align: right;\">\n",
       "      <th></th>\n",
       "      <th>Date</th>\n",
       "      <th>AveragePrice</th>\n",
       "      <th>Total Volume</th>\n",
       "      <th>4046</th>\n",
       "      <th>4225</th>\n",
       "      <th>4770</th>\n",
       "      <th>type</th>\n",
       "      <th>year</th>\n",
       "      <th>region</th>\n",
       "    </tr>\n",
       "  </thead>\n",
       "  <tbody>\n",
       "    <tr>\n",
       "      <th>0</th>\n",
       "      <td>27-12-2015</td>\n",
       "      <td>1.33</td>\n",
       "      <td>64236.62</td>\n",
       "      <td>1036.74</td>\n",
       "      <td>54454.85</td>\n",
       "      <td>48.16</td>\n",
       "      <td>conventional</td>\n",
       "      <td>2015.0</td>\n",
       "      <td>Albany</td>\n",
       "    </tr>\n",
       "    <tr>\n",
       "      <th>1</th>\n",
       "      <td>20-12-2015</td>\n",
       "      <td>1.35</td>\n",
       "      <td>54876.98</td>\n",
       "      <td>674.28</td>\n",
       "      <td>44638.81</td>\n",
       "      <td>58.33</td>\n",
       "      <td>conventional</td>\n",
       "      <td>2015.0</td>\n",
       "      <td>Albany</td>\n",
       "    </tr>\n",
       "    <tr>\n",
       "      <th>2</th>\n",
       "      <td>13-12-2015</td>\n",
       "      <td>0.93</td>\n",
       "      <td>118220.22</td>\n",
       "      <td>794.70</td>\n",
       "      <td>109149.67</td>\n",
       "      <td>130.50</td>\n",
       "      <td>conventional</td>\n",
       "      <td>2015.0</td>\n",
       "      <td>Albany</td>\n",
       "    </tr>\n",
       "    <tr>\n",
       "      <th>3</th>\n",
       "      <td>06-12-2015</td>\n",
       "      <td>1.08</td>\n",
       "      <td>78992.15</td>\n",
       "      <td>1132.00</td>\n",
       "      <td>71976.41</td>\n",
       "      <td>72.58</td>\n",
       "      <td>conventional</td>\n",
       "      <td>2015.0</td>\n",
       "      <td>Albany</td>\n",
       "    </tr>\n",
       "    <tr>\n",
       "      <th>4</th>\n",
       "      <td>29-11-2015</td>\n",
       "      <td>1.28</td>\n",
       "      <td>51039.60</td>\n",
       "      <td>941.48</td>\n",
       "      <td>43838.39</td>\n",
       "      <td>75.78</td>\n",
       "      <td>conventional</td>\n",
       "      <td>2015.0</td>\n",
       "      <td>Albany</td>\n",
       "    </tr>\n",
       "  </tbody>\n",
       "</table>\n",
       "</div>"
      ],
      "text/plain": [
       "         Date  AveragePrice  Total Volume     4046       4225    4770  \\\n",
       "0  27-12-2015          1.33      64236.62  1036.74   54454.85   48.16   \n",
       "1  20-12-2015          1.35      54876.98   674.28   44638.81   58.33   \n",
       "2  13-12-2015          0.93     118220.22   794.70  109149.67  130.50   \n",
       "3  06-12-2015          1.08      78992.15  1132.00   71976.41   72.58   \n",
       "4  29-11-2015          1.28      51039.60   941.48   43838.39   75.78   \n",
       "\n",
       "           type    year  region  \n",
       "0  conventional  2015.0  Albany  \n",
       "1  conventional  2015.0  Albany  \n",
       "2  conventional  2015.0  Albany  \n",
       "3  conventional  2015.0  Albany  \n",
       "4  conventional  2015.0  Albany  "
      ]
     },
     "execution_count": 14,
     "metadata": {},
     "output_type": "execute_result"
    }
   ],
   "source": [
    "df.head()"
   ]
  },
  {
   "cell_type": "code",
   "execution_count": 15,
   "id": "1ef085bd",
   "metadata": {},
   "outputs": [],
   "source": [
    "df[[\"Date\", \"Month\", \"Year\"]] = df[\"Date\"].str.split(\"-\", expand = True)"
   ]
  },
  {
   "cell_type": "code",
   "execution_count": 16,
   "id": "5f8640c1",
   "metadata": {},
   "outputs": [],
   "source": [
    "# converting objects into integer datatype\n",
    "df[[\"Date\", \"Month\", \"Year\"]]=df[[\"Date\", \"Month\", \"Year\"]].astype(int)"
   ]
  },
  {
   "cell_type": "code",
   "execution_count": 17,
   "id": "4dda37c3",
   "metadata": {},
   "outputs": [
    {
     "data": {
      "text/html": [
       "<div>\n",
       "<style scoped>\n",
       "    .dataframe tbody tr th:only-of-type {\n",
       "        vertical-align: middle;\n",
       "    }\n",
       "\n",
       "    .dataframe tbody tr th {\n",
       "        vertical-align: top;\n",
       "    }\n",
       "\n",
       "    .dataframe thead th {\n",
       "        text-align: right;\n",
       "    }\n",
       "</style>\n",
       "<table border=\"1\" class=\"dataframe\">\n",
       "  <thead>\n",
       "    <tr style=\"text-align: right;\">\n",
       "      <th></th>\n",
       "      <th>Date</th>\n",
       "      <th>AveragePrice</th>\n",
       "      <th>Total Volume</th>\n",
       "      <th>4046</th>\n",
       "      <th>4225</th>\n",
       "      <th>4770</th>\n",
       "      <th>type</th>\n",
       "      <th>year</th>\n",
       "      <th>region</th>\n",
       "      <th>Month</th>\n",
       "      <th>Year</th>\n",
       "    </tr>\n",
       "  </thead>\n",
       "  <tbody>\n",
       "    <tr>\n",
       "      <th>0</th>\n",
       "      <td>27</td>\n",
       "      <td>1.33</td>\n",
       "      <td>64236.62</td>\n",
       "      <td>1036.74</td>\n",
       "      <td>54454.85</td>\n",
       "      <td>48.16</td>\n",
       "      <td>conventional</td>\n",
       "      <td>2015.0</td>\n",
       "      <td>Albany</td>\n",
       "      <td>12</td>\n",
       "      <td>2015</td>\n",
       "    </tr>\n",
       "    <tr>\n",
       "      <th>1</th>\n",
       "      <td>20</td>\n",
       "      <td>1.35</td>\n",
       "      <td>54876.98</td>\n",
       "      <td>674.28</td>\n",
       "      <td>44638.81</td>\n",
       "      <td>58.33</td>\n",
       "      <td>conventional</td>\n",
       "      <td>2015.0</td>\n",
       "      <td>Albany</td>\n",
       "      <td>12</td>\n",
       "      <td>2015</td>\n",
       "    </tr>\n",
       "    <tr>\n",
       "      <th>2</th>\n",
       "      <td>13</td>\n",
       "      <td>0.93</td>\n",
       "      <td>118220.22</td>\n",
       "      <td>794.70</td>\n",
       "      <td>109149.67</td>\n",
       "      <td>130.50</td>\n",
       "      <td>conventional</td>\n",
       "      <td>2015.0</td>\n",
       "      <td>Albany</td>\n",
       "      <td>12</td>\n",
       "      <td>2015</td>\n",
       "    </tr>\n",
       "    <tr>\n",
       "      <th>3</th>\n",
       "      <td>6</td>\n",
       "      <td>1.08</td>\n",
       "      <td>78992.15</td>\n",
       "      <td>1132.00</td>\n",
       "      <td>71976.41</td>\n",
       "      <td>72.58</td>\n",
       "      <td>conventional</td>\n",
       "      <td>2015.0</td>\n",
       "      <td>Albany</td>\n",
       "      <td>12</td>\n",
       "      <td>2015</td>\n",
       "    </tr>\n",
       "    <tr>\n",
       "      <th>4</th>\n",
       "      <td>29</td>\n",
       "      <td>1.28</td>\n",
       "      <td>51039.60</td>\n",
       "      <td>941.48</td>\n",
       "      <td>43838.39</td>\n",
       "      <td>75.78</td>\n",
       "      <td>conventional</td>\n",
       "      <td>2015.0</td>\n",
       "      <td>Albany</td>\n",
       "      <td>11</td>\n",
       "      <td>2015</td>\n",
       "    </tr>\n",
       "  </tbody>\n",
       "</table>\n",
       "</div>"
      ],
      "text/plain": [
       "   Date  AveragePrice  Total Volume     4046       4225    4770          type  \\\n",
       "0    27          1.33      64236.62  1036.74   54454.85   48.16  conventional   \n",
       "1    20          1.35      54876.98   674.28   44638.81   58.33  conventional   \n",
       "2    13          0.93     118220.22   794.70  109149.67  130.50  conventional   \n",
       "3     6          1.08      78992.15  1132.00   71976.41   72.58  conventional   \n",
       "4    29          1.28      51039.60   941.48   43838.39   75.78  conventional   \n",
       "\n",
       "     year  region  Month  Year  \n",
       "0  2015.0  Albany     12  2015  \n",
       "1  2015.0  Albany     12  2015  \n",
       "2  2015.0  Albany     12  2015  \n",
       "3  2015.0  Albany     12  2015  \n",
       "4  2015.0  Albany     11  2015  "
      ]
     },
     "execution_count": 17,
     "metadata": {},
     "output_type": "execute_result"
    }
   ],
   "source": [
    "df.head()"
   ]
  },
  {
   "cell_type": "code",
   "execution_count": 18,
   "id": "d22c6a07",
   "metadata": {},
   "outputs": [
    {
     "data": {
      "text/plain": [
       "2015    1270\n",
       "2016     247\n",
       "Name: Year, dtype: int64"
      ]
     },
     "execution_count": 18,
     "metadata": {},
     "output_type": "execute_result"
    }
   ],
   "source": [
    "df['Year'].value_counts()"
   ]
  },
  {
   "cell_type": "markdown",
   "id": "af5c6454",
   "metadata": {},
   "source": [
    "Now we can notice we have 2 columns for years and both having same unique value so droping one of them"
   ]
  },
  {
   "cell_type": "code",
   "execution_count": 19,
   "id": "8429ce0e",
   "metadata": {},
   "outputs": [],
   "source": [
    "df.drop(['year'],axis=1, inplace=True)"
   ]
  },
  {
   "cell_type": "code",
   "execution_count": 20,
   "id": "316e9c6e",
   "metadata": {},
   "outputs": [
    {
     "data": {
      "text/plain": [
       "1"
      ]
     },
     "execution_count": 20,
     "metadata": {},
     "output_type": "execute_result"
    }
   ],
   "source": [
    "df['type'].nunique()"
   ]
  },
  {
   "cell_type": "markdown",
   "id": "5f362b73",
   "metadata": {},
   "source": [
    "As we can see we only one type so we are droping the column because all values are same."
   ]
  },
  {
   "cell_type": "code",
   "execution_count": 21,
   "id": "152b40c0",
   "metadata": {},
   "outputs": [],
   "source": [
    "df.drop(['type'],axis=1, inplace=True)"
   ]
  },
  {
   "cell_type": "code",
   "execution_count": 22,
   "id": "b35e8251",
   "metadata": {},
   "outputs": [
    {
     "data": {
      "text/plain": [
       "51"
      ]
     },
     "execution_count": 22,
     "metadata": {},
     "output_type": "execute_result"
    }
   ],
   "source": [
    "df['region'].nunique()"
   ]
  },
  {
   "cell_type": "code",
   "execution_count": 23,
   "id": "38d53960",
   "metadata": {},
   "outputs": [
    {
     "name": "stdout",
     "output_type": "stream",
     "text": [
      "<class 'pandas.core.frame.DataFrame'>\n",
      "Int64Index: 1517 entries, 0 to 1516\n",
      "Data columns (total 9 columns):\n",
      " #   Column        Non-Null Count  Dtype  \n",
      "---  ------        --------------  -----  \n",
      " 0   Date          1517 non-null   int32  \n",
      " 1   AveragePrice  1517 non-null   float64\n",
      " 2   Total Volume  1517 non-null   float64\n",
      " 3   4046          1517 non-null   float64\n",
      " 4   4225          1517 non-null   float64\n",
      " 5   4770          1517 non-null   float64\n",
      " 6   region        1517 non-null   object \n",
      " 7   Month         1517 non-null   int32  \n",
      " 8   Year          1517 non-null   int32  \n",
      "dtypes: float64(5), int32(3), object(1)\n",
      "memory usage: 100.7+ KB\n"
     ]
    }
   ],
   "source": [
    "df.info()"
   ]
  },
  {
   "cell_type": "markdown",
   "id": "df26750c",
   "metadata": {},
   "source": [
    "no missing values in data set\n",
    "now 8 numerical columns and 1 object column in our dataset\n"
   ]
  },
  {
   "cell_type": "code",
   "execution_count": 24,
   "id": "7a97c007",
   "metadata": {},
   "outputs": [],
   "source": [
    "from scipy.stats import skew\n",
    "import matplotlib.pyplot as plt\n",
    "import warnings\n",
    "warnings.filterwarnings('ignore')"
   ]
  },
  {
   "cell_type": "code",
   "execution_count": 25,
   "id": "ae8927d4",
   "metadata": {},
   "outputs": [
    {
     "data": {
      "text/html": [
       "<div>\n",
       "<style scoped>\n",
       "    .dataframe tbody tr th:only-of-type {\n",
       "        vertical-align: middle;\n",
       "    }\n",
       "\n",
       "    .dataframe tbody tr th {\n",
       "        vertical-align: top;\n",
       "    }\n",
       "\n",
       "    .dataframe thead th {\n",
       "        text-align: right;\n",
       "    }\n",
       "</style>\n",
       "<table border=\"1\" class=\"dataframe\">\n",
       "  <thead>\n",
       "    <tr style=\"text-align: right;\">\n",
       "      <th></th>\n",
       "      <th>Date</th>\n",
       "      <th>AveragePrice</th>\n",
       "      <th>Total Volume</th>\n",
       "      <th>4046</th>\n",
       "      <th>4225</th>\n",
       "      <th>4770</th>\n",
       "      <th>region</th>\n",
       "      <th>Month</th>\n",
       "      <th>Year</th>\n",
       "    </tr>\n",
       "  </thead>\n",
       "  <tbody>\n",
       "    <tr>\n",
       "      <th>0</th>\n",
       "      <td>27</td>\n",
       "      <td>1.33</td>\n",
       "      <td>64236.62</td>\n",
       "      <td>1036.74</td>\n",
       "      <td>54454.85</td>\n",
       "      <td>48.16</td>\n",
       "      <td>Albany</td>\n",
       "      <td>12</td>\n",
       "      <td>2015</td>\n",
       "    </tr>\n",
       "    <tr>\n",
       "      <th>1</th>\n",
       "      <td>20</td>\n",
       "      <td>1.35</td>\n",
       "      <td>54876.98</td>\n",
       "      <td>674.28</td>\n",
       "      <td>44638.81</td>\n",
       "      <td>58.33</td>\n",
       "      <td>Albany</td>\n",
       "      <td>12</td>\n",
       "      <td>2015</td>\n",
       "    </tr>\n",
       "    <tr>\n",
       "      <th>2</th>\n",
       "      <td>13</td>\n",
       "      <td>0.93</td>\n",
       "      <td>118220.22</td>\n",
       "      <td>794.70</td>\n",
       "      <td>109149.67</td>\n",
       "      <td>130.50</td>\n",
       "      <td>Albany</td>\n",
       "      <td>12</td>\n",
       "      <td>2015</td>\n",
       "    </tr>\n",
       "    <tr>\n",
       "      <th>3</th>\n",
       "      <td>6</td>\n",
       "      <td>1.08</td>\n",
       "      <td>78992.15</td>\n",
       "      <td>1132.00</td>\n",
       "      <td>71976.41</td>\n",
       "      <td>72.58</td>\n",
       "      <td>Albany</td>\n",
       "      <td>12</td>\n",
       "      <td>2015</td>\n",
       "    </tr>\n",
       "    <tr>\n",
       "      <th>4</th>\n",
       "      <td>29</td>\n",
       "      <td>1.28</td>\n",
       "      <td>51039.60</td>\n",
       "      <td>941.48</td>\n",
       "      <td>43838.39</td>\n",
       "      <td>75.78</td>\n",
       "      <td>Albany</td>\n",
       "      <td>11</td>\n",
       "      <td>2015</td>\n",
       "    </tr>\n",
       "  </tbody>\n",
       "</table>\n",
       "</div>"
      ],
      "text/plain": [
       "   Date  AveragePrice  Total Volume     4046       4225    4770  region  \\\n",
       "0    27          1.33      64236.62  1036.74   54454.85   48.16  Albany   \n",
       "1    20          1.35      54876.98   674.28   44638.81   58.33  Albany   \n",
       "2    13          0.93     118220.22   794.70  109149.67  130.50  Albany   \n",
       "3     6          1.08      78992.15  1132.00   71976.41   72.58  Albany   \n",
       "4    29          1.28      51039.60   941.48   43838.39   75.78  Albany   \n",
       "\n",
       "   Month  Year  \n",
       "0     12  2015  \n",
       "1     12  2015  \n",
       "2     12  2015  \n",
       "3     12  2015  \n",
       "4     11  2015  "
      ]
     },
     "execution_count": 25,
     "metadata": {},
     "output_type": "execute_result"
    }
   ],
   "source": [
    "df.head()"
   ]
  },
  {
   "cell_type": "code",
   "execution_count": 26,
   "id": "f582a01f",
   "metadata": {},
   "outputs": [
    {
     "data": {
      "text/html": [
       "<div>\n",
       "<style scoped>\n",
       "    .dataframe tbody tr th:only-of-type {\n",
       "        vertical-align: middle;\n",
       "    }\n",
       "\n",
       "    .dataframe tbody tr th {\n",
       "        vertical-align: top;\n",
       "    }\n",
       "\n",
       "    .dataframe thead th {\n",
       "        text-align: right;\n",
       "    }\n",
       "</style>\n",
       "<table border=\"1\" class=\"dataframe\">\n",
       "  <thead>\n",
       "    <tr style=\"text-align: right;\">\n",
       "      <th></th>\n",
       "      <th>Date</th>\n",
       "      <th>AveragePrice</th>\n",
       "      <th>Total Volume</th>\n",
       "      <th>4046</th>\n",
       "      <th>4225</th>\n",
       "      <th>4770</th>\n",
       "      <th>Month</th>\n",
       "      <th>Year</th>\n",
       "    </tr>\n",
       "  </thead>\n",
       "  <tbody>\n",
       "    <tr>\n",
       "      <th>Date</th>\n",
       "      <td>1.000000</td>\n",
       "      <td>0.092531</td>\n",
       "      <td>-0.022423</td>\n",
       "      <td>-0.018394</td>\n",
       "      <td>-0.032709</td>\n",
       "      <td>-0.014611</td>\n",
       "      <td>0.034279</td>\n",
       "      <td>0.023543</td>\n",
       "    </tr>\n",
       "    <tr>\n",
       "      <th>AveragePrice</th>\n",
       "      <td>0.092531</td>\n",
       "      <td>1.000000</td>\n",
       "      <td>-0.140470</td>\n",
       "      <td>-0.190096</td>\n",
       "      <td>-0.092084</td>\n",
       "      <td>-0.100567</td>\n",
       "      <td>0.066859</td>\n",
       "      <td>0.178683</td>\n",
       "    </tr>\n",
       "    <tr>\n",
       "      <th>Total Volume</th>\n",
       "      <td>-0.022423</td>\n",
       "      <td>-0.140470</td>\n",
       "      <td>1.000000</td>\n",
       "      <td>0.985568</td>\n",
       "      <td>0.987154</td>\n",
       "      <td>0.934347</td>\n",
       "      <td>-0.090520</td>\n",
       "      <td>-0.004189</td>\n",
       "    </tr>\n",
       "    <tr>\n",
       "      <th>4046</th>\n",
       "      <td>-0.018394</td>\n",
       "      <td>-0.190096</td>\n",
       "      <td>0.985568</td>\n",
       "      <td>1.000000</td>\n",
       "      <td>0.951952</td>\n",
       "      <td>0.898570</td>\n",
       "      <td>-0.090647</td>\n",
       "      <td>-0.040439</td>\n",
       "    </tr>\n",
       "    <tr>\n",
       "      <th>4225</th>\n",
       "      <td>-0.032709</td>\n",
       "      <td>-0.092084</td>\n",
       "      <td>0.987154</td>\n",
       "      <td>0.951952</td>\n",
       "      <td>1.000000</td>\n",
       "      <td>0.927757</td>\n",
       "      <td>-0.091329</td>\n",
       "      <td>-0.007254</td>\n",
       "    </tr>\n",
       "    <tr>\n",
       "      <th>4770</th>\n",
       "      <td>-0.014611</td>\n",
       "      <td>-0.100567</td>\n",
       "      <td>0.934347</td>\n",
       "      <td>0.898570</td>\n",
       "      <td>0.927757</td>\n",
       "      <td>1.000000</td>\n",
       "      <td>-0.074855</td>\n",
       "      <td>0.029222</td>\n",
       "    </tr>\n",
       "    <tr>\n",
       "      <th>Month</th>\n",
       "      <td>0.034279</td>\n",
       "      <td>0.066859</td>\n",
       "      <td>-0.090520</td>\n",
       "      <td>-0.090647</td>\n",
       "      <td>-0.091329</td>\n",
       "      <td>-0.074855</td>\n",
       "      <td>1.000000</td>\n",
       "      <td>0.004111</td>\n",
       "    </tr>\n",
       "    <tr>\n",
       "      <th>Year</th>\n",
       "      <td>0.023543</td>\n",
       "      <td>0.178683</td>\n",
       "      <td>-0.004189</td>\n",
       "      <td>-0.040439</td>\n",
       "      <td>-0.007254</td>\n",
       "      <td>0.029222</td>\n",
       "      <td>0.004111</td>\n",
       "      <td>1.000000</td>\n",
       "    </tr>\n",
       "  </tbody>\n",
       "</table>\n",
       "</div>"
      ],
      "text/plain": [
       "                  Date  AveragePrice  Total Volume      4046      4225  \\\n",
       "Date          1.000000      0.092531     -0.022423 -0.018394 -0.032709   \n",
       "AveragePrice  0.092531      1.000000     -0.140470 -0.190096 -0.092084   \n",
       "Total Volume -0.022423     -0.140470      1.000000  0.985568  0.987154   \n",
       "4046         -0.018394     -0.190096      0.985568  1.000000  0.951952   \n",
       "4225         -0.032709     -0.092084      0.987154  0.951952  1.000000   \n",
       "4770         -0.014611     -0.100567      0.934347  0.898570  0.927757   \n",
       "Month         0.034279      0.066859     -0.090520 -0.090647 -0.091329   \n",
       "Year          0.023543      0.178683     -0.004189 -0.040439 -0.007254   \n",
       "\n",
       "                  4770     Month      Year  \n",
       "Date         -0.014611  0.034279  0.023543  \n",
       "AveragePrice -0.100567  0.066859  0.178683  \n",
       "Total Volume  0.934347 -0.090520 -0.004189  \n",
       "4046          0.898570 -0.090647 -0.040439  \n",
       "4225          0.927757 -0.091329 -0.007254  \n",
       "4770          1.000000 -0.074855  0.029222  \n",
       "Month        -0.074855  1.000000  0.004111  \n",
       "Year          0.029222  0.004111  1.000000  "
      ]
     },
     "execution_count": 26,
     "metadata": {},
     "output_type": "execute_result"
    }
   ],
   "source": [
    "df.corr()"
   ]
  },
  {
   "cell_type": "code",
   "execution_count": 27,
   "id": "ccb92c0c",
   "metadata": {},
   "outputs": [
    {
     "data": {
      "text/plain": [
       "<Axes: >"
      ]
     },
     "execution_count": 27,
     "metadata": {},
     "output_type": "execute_result"
    },
    {
     "data": {
      "image/png": "[encoded data removed]",
      "text/plain": [
       "<Figure size 2000x700 with 2 Axes>"
      ]
     },
     "metadata": {},
     "output_type": "display_data"
    }
   ],
   "source": [
    "plt.figure(figsize=(20,7))\n",
    "sns.heatmap(df.corr(),annot=True,linewidths=1,linecolor='white',cmap='magma')"
   ]
  },
  {
   "cell_type": "markdown",
   "id": "ccaf65f2",
   "metadata": {},
   "source": [
    "We don't see any column fairely correlated with Average price\n",
    "\n",
    "some of them are negatively correalted with data\n",
    "\n",
    "columns\n",
    "\n",
    "4046 - Total number of avocados with PLU 4046 sold\n",
    "4225 - Total number of avocados with PLU 4225 sold\n",
    "4770 - Total number of avocados with PLU 4770 sold\n",
    "Total Volume - Total number of avocados sold\n",
    "are highly correlated with each other, that could be possible because they all are sold information"
   ]
  },
  {
   "cell_type": "code",
   "execution_count": 28,
   "id": "eb151069",
   "metadata": {},
   "outputs": [
    {
     "data": {
      "text/plain": [
       "<Axes: xlabel='Date', ylabel='Count'>"
      ]
     },
     "execution_count": 28,
     "metadata": {},
     "output_type": "execute_result"
    },
    {
     "data": {
      "image/png": "[encoded data removed]",
      "text/plain": [
       "<Figure size 1000x500 with 1 Axes>"
      ]
     },
     "metadata": {},
     "output_type": "display_data"
    }
   ],
   "source": [
    "plt.figure(figsize=(10,5))\n",
    "sns.histplot(df['Date'], bins=30)"
   ]
  },
  {
   "cell_type": "markdown",
   "id": "a81d001a",
   "metadata": {},
   "source": [
    "Sold on everyday is around 40 to 60 avacado\n",
    "maximum sold in a day\n",
    "we can notice after every 6 days there is hike in sell that must be the weekend"
   ]
  },
  {
   "cell_type": "code",
   "execution_count": 29,
   "id": "738fc736",
   "metadata": {},
   "outputs": [
    {
     "data": {
      "image/png": "[encoded data removed]",
      "text/plain": [
       "<Figure size 1000x500 with 1 Axes>"
      ]
     },
     "metadata": {},
     "output_type": "display_data"
    }
   ],
   "source": [
    "plt.figure(figsize=(10,5))\n",
    "plt.scatter(df['AveragePrice'],df['Total Volume'],c='blue')\n",
    "plt.xlabel('the average price of a single avocado')\n",
    "plt.ylabel('Total number of avocados sold')\n",
    "plt.show()"
   ]
  },
  {
   "cell_type": "markdown",
   "id": "42f30ab6",
   "metadata": {},
   "source": [
    "max average price seems 0.8 to 1.2\n",
    "having outliers as well"
   ]
  },
  {
   "cell_type": "code",
   "execution_count": 30,
   "id": "fc186a6f",
   "metadata": {},
   "outputs": [
    {
     "data": {
      "image/png": "[encoded data removed]",
      "text/plain": [
       "<Figure size 1000x500 with 1 Axes>"
      ]
     },
     "metadata": {},
     "output_type": "display_data"
    }
   ],
   "source": [
    "plt.figure(figsize=(10,5))\n",
    "plt.scatter(df['AveragePrice'],df['4225'],c='blue')\n",
    "plt.xlabel('the average price of a single avocado')\n",
    "plt.ylabel('Total number of avocados with PLU 4225 sold')\n",
    "plt.show()"
   ]
  },
  {
   "cell_type": "markdown",
   "id": "c78fa43b",
   "metadata": {},
   "source": [
    "Here we also see maximum average price is 0.8 to 1.3 and outliers as well"
   ]
  },
  {
   "cell_type": "code",
   "execution_count": 32,
   "id": "cd0a7a8e",
   "metadata": {},
   "outputs": [
    {
     "data": {
      "image/png": "[encoded data removed]",
      "text/plain": [
       "<Figure size 1000x500 with 1 Axes>"
      ]
     },
     "metadata": {},
     "output_type": "display_data"
    }
   ],
   "source": [
    "plt.figure(figsize=(10,5))\n",
    "plt.scatter(df['AveragePrice'],df['4046'],c='blue')\n",
    "plt.xlabel('the average price of a single avocado')\n",
    "plt.ylabel('Total number of avocados with PLU 4046 sold')\n",
    "plt.show()"
   ]
  },
  {
   "cell_type": "markdown",
   "id": "55539551",
   "metadata": {},
   "source": [
    "Here we also see maximum average price is 0.8 to 1.3 and outliers as well"
   ]
  },
  {
   "cell_type": "code",
   "execution_count": 33,
   "id": "5b0f232f",
   "metadata": {},
   "outputs": [
    {
     "data": {
      "image/png": "[encoded data removed]",
      "text/plain": [
       "<Figure size 1000x500 with 1 Axes>"
      ]
     },
     "metadata": {},
     "output_type": "display_data"
    }
   ],
   "source": [
    "plt.figure(figsize=(10,5))\n",
    "plt.scatter(df['AveragePrice'],df['4770'],c='blue')\n",
    "plt.xlabel('the average price of a single avocado')\n",
    "plt.ylabel('Total number of avocados with PLU 4770 sold')\n",
    "plt.show()"
   ]
  },
  {
   "cell_type": "markdown",
   "id": "f0ad54b5",
   "metadata": {},
   "source": [
    "Here we also see maximum average price is 0.8 to 1.2 and outliers as well"
   ]
  },
  {
   "cell_type": "code",
   "execution_count": 34,
   "id": "77caf52b",
   "metadata": {},
   "outputs": [
    {
     "data": {
      "text/plain": [
       "<Axes: xlabel='Year', ylabel='count'>"
      ]
     },
     "execution_count": 34,
     "metadata": {},
     "output_type": "execute_result"
    },
    {
     "data": {
      "image/png": "[encoded data removed]",
      "text/plain": [
       "<Figure size 640x480 with 1 Axes>"
      ]
     },
     "metadata": {},
     "output_type": "display_data"
    }
   ],
   "source": [
    "sns.countplot(x='Year',data=df)"
   ]
  },
  {
   "cell_type": "markdown",
   "id": "67b29e00",
   "metadata": {},
   "source": [
    "We see here maximum data we have from year of 2015"
   ]
  },
  {
   "cell_type": "code",
   "execution_count": 35,
   "id": "ade68cfd",
   "metadata": {},
   "outputs": [
    {
     "data": {
      "text/plain": [
       "<Axes: xlabel='Month', ylabel='count'>"
      ]
     },
     "execution_count": 35,
     "metadata": {},
     "output_type": "execute_result"
    },
    {
     "data": {
      "image/png": "[encoded data removed]",
      "text/plain": [
       "<Figure size 640x480 with 1 Axes>"
      ]
     },
     "metadata": {},
     "output_type": "display_data"
    }
   ],
   "source": [
    "sns.countplot(x='Month',data=df)"
   ]
  },
  {
   "cell_type": "markdown",
   "id": "541d79f6",
   "metadata": {},
   "source": [
    "Here we can see maximum avacado are sold in month 3, 4, and 5 and months are on average sale"
   ]
  },
  {
   "cell_type": "markdown",
   "id": "1b8d2459",
   "metadata": {},
   "source": [
    "Using LabelEncoder for convering categorical to numerical"
   ]
  },
  {
   "cell_type": "code",
   "execution_count": 36,
   "id": "c9f3f45b",
   "metadata": {},
   "outputs": [
    {
     "name": "stdout",
     "output_type": "stream",
     "text": [
      "<class 'pandas.core.frame.DataFrame'>\n",
      "Int64Index: 1517 entries, 0 to 1516\n",
      "Data columns (total 9 columns):\n",
      " #   Column        Non-Null Count  Dtype  \n",
      "---  ------        --------------  -----  \n",
      " 0   Date          1517 non-null   int32  \n",
      " 1   AveragePrice  1517 non-null   float64\n",
      " 2   Total Volume  1517 non-null   float64\n",
      " 3   4046          1517 non-null   float64\n",
      " 4   4225          1517 non-null   float64\n",
      " 5   4770          1517 non-null   float64\n",
      " 6   region        1517 non-null   object \n",
      " 7   Month         1517 non-null   int32  \n",
      " 8   Year          1517 non-null   int32  \n",
      "dtypes: float64(5), int32(3), object(1)\n",
      "memory usage: 100.7+ KB\n"
     ]
    }
   ],
   "source": [
    "df.info()"
   ]
  },
  {
   "cell_type": "code",
   "execution_count": 37,
   "id": "3a6e3b62",
   "metadata": {},
   "outputs": [],
   "source": [
    "from sklearn import preprocessing\n",
    "le = preprocessing.LabelEncoder()\n",
    "df['region']=le.fit_transform(df['region'])"
   ]
  },
  {
   "cell_type": "markdown",
   "id": "0b8c3d19",
   "metadata": {},
   "source": [
    "Skewness Hnadling"
   ]
  },
  {
   "cell_type": "code",
   "execution_count": 38,
   "id": "585b8ed1",
   "metadata": {},
   "outputs": [
    {
     "data": {
      "image/png": "[encoded data removed]",
      "text/plain": [
       "<Figure size 2500x2000 with 9 Axes>"
      ]
     },
     "metadata": {},
     "output_type": "display_data"
    }
   ],
   "source": [
    "plt.figure(figsize=(25,20))\n",
    "for i in enumerate(df.columns):\n",
    "    plt.subplot(5,3,i[0]+1)\n",
    "    sns.distplot(df[i[1]],color='g')"
   ]
  },
  {
   "cell_type": "code",
   "execution_count": 47,
   "id": "08d4efaf",
   "metadata": {},
   "outputs": [
    {
     "data": {
      "text/plain": [
       "Date            0.027740\n",
       "AveragePrice   -0.109444\n",
       "Total Volume    6.200138\n",
       "4046            6.051830\n",
       "4225            6.394926\n",
       "4770            5.405164\n",
       "region          0.288146\n",
       "Month           0.233418\n",
       "Year            1.828332\n",
       "dtype: float64"
      ]
     },
     "execution_count": 47,
     "metadata": {},
     "output_type": "execute_result"
    }
   ],
   "source": [
    "df.skew()"
   ]
  },
  {
   "cell_type": "markdown",
   "id": "5f8fc9cf",
   "metadata": {},
   "source": [
    "skewness more than+/- 0.5 will we treated\n",
    "we can see here most of the columns are skewed\n",
    "will only deal with numercal columns\n",
    "Total Volume\n",
    "4046\n",
    "4225\n",
    "4770\n",
    "will be treated"
   ]
  },
  {
   "cell_type": "code",
   "execution_count": 39,
   "id": "00e48214",
   "metadata": {},
   "outputs": [],
   "source": [
    "from sklearn.preprocessing import power_transform\n",
    "\n",
    "df[['Total Volume','4046','4225','4770']]=power_transform(df[['Total Volume','4046','4225','4770']],method='yeo-johnson')"
   ]
  },
  {
   "cell_type": "code",
   "execution_count": 40,
   "id": "f6743bfa",
   "metadata": {},
   "outputs": [
    {
     "data": {
      "text/plain": [
       "Date            0.027740\n",
       "AveragePrice   -0.109444\n",
       "Total Volume    0.071159\n",
       "4046           -0.012059\n",
       "4225            0.008450\n",
       "4770           -0.032945\n",
       "region          0.288146\n",
       "Month           0.233418\n",
       "Year            1.828332\n",
       "dtype: float64"
      ]
     },
     "execution_count": 40,
     "metadata": {},
     "output_type": "execute_result"
    }
   ],
   "source": [
    "df.skew()"
   ]
  },
  {
   "cell_type": "markdown",
   "id": "3b38c7e0",
   "metadata": {},
   "source": [
    "we can see here skewness is removed from all columns"
   ]
  },
  {
   "cell_type": "markdown",
   "id": "744ac53f",
   "metadata": {},
   "source": [
    "HANDling Outliers"
   ]
  },
  {
   "cell_type": "code",
   "execution_count": 41,
   "id": "8273fed7",
   "metadata": {},
   "outputs": [
    {
     "data": {
      "image/png": "[encoded data removed]",
      "text/plain": [
       "<Figure size 1800x1000 with 9 Axes>"
      ]
     },
     "metadata": {},
     "output_type": "display_data"
    }
   ],
   "source": [
    "plt.figure(figsize=(18,10))\n",
    "for o in enumerate(df):\n",
    "    plt.subplot(3,5,o[0]+1)\n",
    "    sns.boxplot(df[o[1]])"
   ]
  },
  {
   "cell_type": "markdown",
   "id": "08fb12d2",
   "metadata": {},
   "source": [
    "Only Target columns seems having outliers after skewness removed ."
   ]
  },
  {
   "cell_type": "code",
   "execution_count": 42,
   "id": "3288eb0b",
   "metadata": {},
   "outputs": [
    {
     "name": "stdout",
     "output_type": "stream",
     "text": [
      "(array([ 760, 1411, 1457, 1458], dtype=int64), array([1, 1, 1, 1], dtype=int64))\n"
     ]
    }
   ],
   "source": [
    "#zscore\n",
    "\n",
    "from scipy.stats import zscore\n",
    "\n",
    "z=np.abs(zscore(df))\n",
    "\n",
    "print(np.where(z>3))"
   ]
  },
  {
   "cell_type": "code",
   "execution_count": 43,
   "id": "5882286d",
   "metadata": {},
   "outputs": [
    {
     "name": "stdout",
     "output_type": "stream",
     "text": [
      "with outliers:: (1517, 9)\n",
      "After removing outliers:: (1513, 9)\n"
     ]
    }
   ],
   "source": [
    "df_1=df[(z<3).all(axis=1)]\n",
    "print(\"with outliers::\",df.shape)\n",
    "print(\"After removing outliers::\",df_1.shape)"
   ]
  },
  {
   "cell_type": "code",
   "execution_count": 53,
   "id": "238cd24e",
   "metadata": {},
   "outputs": [],
   "source": [
    "#Zscore removing all rows from data"
   ]
  },
  {
   "cell_type": "code",
   "execution_count": 44,
   "id": "50c89f65",
   "metadata": {},
   "outputs": [
    {
     "data": {
      "text/plain": [
       "11.839764500065886"
      ]
     },
     "execution_count": 44,
     "metadata": {},
     "output_type": "execute_result"
    }
   ],
   "source": [
    "#IQR\n",
    "from scipy import stats \n",
    "IQR = stats.iqr(df) \n",
    "IQR "
   ]
  },
  {
   "cell_type": "code",
   "execution_count": 45,
   "id": "739f9bbd",
   "metadata": {},
   "outputs": [
    {
     "name": "stdout",
     "output_type": "stream",
     "text": [
      "(1517, 9)\n"
     ]
    }
   ],
   "source": [
    "Q1 = df.quantile(0.25)\n",
    "Q3 = df.quantile(0.75)\n",
    "df_out = df[~((df < (Q1 - 1.5 * IQR)) |(df > (Q3 + 1.5 * IQR))).any(axis=1)]\n",
    "print(df_out.shape)"
   ]
  },
  {
   "cell_type": "code",
   "execution_count": 56,
   "id": "ba992f65",
   "metadata": {},
   "outputs": [],
   "source": [
    "#according IQR not outliers present so taking as it is"
   ]
  },
  {
   "cell_type": "code",
   "execution_count": 46,
   "id": "41fd337d",
   "metadata": {},
   "outputs": [],
   "source": [
    "df=df_out"
   ]
  },
  {
   "cell_type": "code",
   "execution_count": 58,
   "id": "c908d22c",
   "metadata": {},
   "outputs": [],
   "source": [
    "#Dividing data into X and Y"
   ]
  },
  {
   "cell_type": "code",
   "execution_count": 47,
   "id": "957623b9",
   "metadata": {},
   "outputs": [],
   "source": [
    "x=df.drop(['AveragePrice'],axis=1)\n",
    "y=df['AveragePrice']"
   ]
  },
  {
   "cell_type": "code",
   "execution_count": 48,
   "id": "77e69dfb",
   "metadata": {},
   "outputs": [
    {
     "data": {
      "text/plain": [
       "(1517, 8)"
      ]
     },
     "execution_count": 48,
     "metadata": {},
     "output_type": "execute_result"
    }
   ],
   "source": [
    "x.shape"
   ]
  },
  {
   "cell_type": "code",
   "execution_count": 49,
   "id": "f2e34575",
   "metadata": {},
   "outputs": [
    {
     "data": {
      "text/plain": [
       "(1517,)"
      ]
     },
     "execution_count": 49,
     "metadata": {},
     "output_type": "execute_result"
    }
   ],
   "source": [
    "y.shape"
   ]
  },
  {
   "cell_type": "code",
   "execution_count": 50,
   "id": "b4d29c42",
   "metadata": {},
   "outputs": [],
   "source": [
    "from sklearn.preprocessing import MinMaxScaler\n",
    "\n",
    "sc=MinMaxScaler()\n",
    "x=sc.fit_transform(x)"
   ]
  },
  {
   "cell_type": "code",
   "execution_count": 51,
   "id": "f2f4534f",
   "metadata": {},
   "outputs": [
    {
     "data": {
      "text/plain": [
       "0    0\n",
       "1    0\n",
       "2    0\n",
       "3    0\n",
       "4    0\n",
       "5    0\n",
       "6    0\n",
       "7    0\n",
       "dtype: int64"
      ]
     },
     "execution_count": 51,
     "metadata": {},
     "output_type": "execute_result"
    }
   ],
   "source": [
    "#data have been scaled\n",
    "\n",
    "pd.DataFrame(x).isnull().sum()"
   ]
  },
  {
   "cell_type": "code",
   "execution_count": 52,
   "id": "9fd5ee6a",
   "metadata": {},
   "outputs": [
    {
     "data": {
      "text/html": [
       "<div>\n",
       "<style scoped>\n",
       "    .dataframe tbody tr th:only-of-type {\n",
       "        vertical-align: middle;\n",
       "    }\n",
       "\n",
       "    .dataframe tbody tr th {\n",
       "        vertical-align: top;\n",
       "    }\n",
       "\n",
       "    .dataframe thead th {\n",
       "        text-align: right;\n",
       "    }\n",
       "</style>\n",
       "<table border=\"1\" class=\"dataframe\">\n",
       "  <thead>\n",
       "    <tr style=\"text-align: right;\">\n",
       "      <th></th>\n",
       "      <th>0</th>\n",
       "      <th>1</th>\n",
       "      <th>2</th>\n",
       "      <th>3</th>\n",
       "      <th>4</th>\n",
       "      <th>5</th>\n",
       "      <th>6</th>\n",
       "      <th>7</th>\n",
       "    </tr>\n",
       "  </thead>\n",
       "  <tbody>\n",
       "    <tr>\n",
       "      <th>count</th>\n",
       "      <td>1517.000000</td>\n",
       "      <td>1517.000000</td>\n",
       "      <td>1517.000000</td>\n",
       "      <td>1517.000000</td>\n",
       "      <td>1517.000000</td>\n",
       "      <td>1517.000000</td>\n",
       "      <td>1517.000000</td>\n",
       "      <td>1517.000000</td>\n",
       "    </tr>\n",
       "    <tr>\n",
       "      <th>mean</th>\n",
       "      <td>0.481652</td>\n",
       "      <td>0.479736</td>\n",
       "      <td>0.446655</td>\n",
       "      <td>0.514899</td>\n",
       "      <td>0.515111</td>\n",
       "      <td>0.423929</td>\n",
       "      <td>0.469707</td>\n",
       "      <td>0.162821</td>\n",
       "    </tr>\n",
       "    <tr>\n",
       "      <th>std</th>\n",
       "      <td>0.293224</td>\n",
       "      <td>0.222194</td>\n",
       "      <td>0.217371</td>\n",
       "      <td>0.183939</td>\n",
       "      <td>0.190796</td>\n",
       "      <td>0.322648</td>\n",
       "      <td>0.308295</td>\n",
       "      <td>0.369324</td>\n",
       "    </tr>\n",
       "    <tr>\n",
       "      <th>min</th>\n",
       "      <td>0.000000</td>\n",
       "      <td>0.000000</td>\n",
       "      <td>0.000000</td>\n",
       "      <td>0.000000</td>\n",
       "      <td>0.000000</td>\n",
       "      <td>0.000000</td>\n",
       "      <td>0.000000</td>\n",
       "      <td>0.000000</td>\n",
       "    </tr>\n",
       "    <tr>\n",
       "      <th>25%</th>\n",
       "      <td>0.233333</td>\n",
       "      <td>0.308777</td>\n",
       "      <td>0.320944</td>\n",
       "      <td>0.383731</td>\n",
       "      <td>0.375955</td>\n",
       "      <td>0.120000</td>\n",
       "      <td>0.181818</td>\n",
       "      <td>0.000000</td>\n",
       "    </tr>\n",
       "    <tr>\n",
       "      <th>50%</th>\n",
       "      <td>0.466667</td>\n",
       "      <td>0.492749</td>\n",
       "      <td>0.448171</td>\n",
       "      <td>0.501067</td>\n",
       "      <td>0.529674</td>\n",
       "      <td>0.380000</td>\n",
       "      <td>0.454545</td>\n",
       "      <td>0.000000</td>\n",
       "    </tr>\n",
       "    <tr>\n",
       "      <th>75%</th>\n",
       "      <td>0.700000</td>\n",
       "      <td>0.627992</td>\n",
       "      <td>0.594504</td>\n",
       "      <td>0.650355</td>\n",
       "      <td>0.636561</td>\n",
       "      <td>0.700000</td>\n",
       "      <td>0.727273</td>\n",
       "      <td>0.000000</td>\n",
       "    </tr>\n",
       "    <tr>\n",
       "      <th>max</th>\n",
       "      <td>1.000000</td>\n",
       "      <td>1.000000</td>\n",
       "      <td>1.000000</td>\n",
       "      <td>1.000000</td>\n",
       "      <td>1.000000</td>\n",
       "      <td>1.000000</td>\n",
       "      <td>1.000000</td>\n",
       "      <td>1.000000</td>\n",
       "    </tr>\n",
       "  </tbody>\n",
       "</table>\n",
       "</div>"
      ],
      "text/plain": [
       "                 0            1            2            3            4  \\\n",
       "count  1517.000000  1517.000000  1517.000000  1517.000000  1517.000000   \n",
       "mean      0.481652     0.479736     0.446655     0.514899     0.515111   \n",
       "std       0.293224     0.222194     0.217371     0.183939     0.190796   \n",
       "min       0.000000     0.000000     0.000000     0.000000     0.000000   \n",
       "25%       0.233333     0.308777     0.320944     0.383731     0.375955   \n",
       "50%       0.466667     0.492749     0.448171     0.501067     0.529674   \n",
       "75%       0.700000     0.627992     0.594504     0.650355     0.636561   \n",
       "max       1.000000     1.000000     1.000000     1.000000     1.000000   \n",
       "\n",
       "                 5            6            7  \n",
       "count  1517.000000  1517.000000  1517.000000  \n",
       "mean      0.423929     0.469707     0.162821  \n",
       "std       0.322648     0.308295     0.369324  \n",
       "min       0.000000     0.000000     0.000000  \n",
       "25%       0.120000     0.181818     0.000000  \n",
       "50%       0.380000     0.454545     0.000000  \n",
       "75%       0.700000     0.727273     0.000000  \n",
       "max       1.000000     1.000000     1.000000  "
      ]
     },
     "execution_count": 52,
     "metadata": {},
     "output_type": "execute_result"
    }
   ],
   "source": [
    "pd.DataFrame(x).describe()\n"
   ]
  },
  {
   "cell_type": "markdown",
   "id": "8b45b770",
   "metadata": {},
   "source": [
    "Splitting the data for training and testing"
   ]
  },
  {
   "cell_type": "code",
   "execution_count": 53,
   "id": "7e946e64",
   "metadata": {},
   "outputs": [],
   "source": [
    "from sklearn.metrics import mean_squared_error,mean_absolute_error\n",
    "from sklearn.metrics import r2_score\n",
    "from sklearn.model_selection import train_test_split\n",
    "from sklearn.model_selection import cross_val_score"
   ]
  },
  {
   "cell_type": "code",
   "execution_count": 54,
   "id": "e14af5ec",
   "metadata": {},
   "outputs": [
    {
     "name": "stdout",
     "output_type": "stream",
     "text": [
      "At random state 0, The training accuracy is:-0.31947171852399603\n",
      "At random state 0, The test accuracy is:-0.2442959889083054\n",
      "\n",
      "\n",
      "At random state 1, The training accuracy is:-0.284768706646208\n",
      "At random state 1, The test accuracy is:-0.36584480825839316\n",
      "\n",
      "\n",
      "At random state 2, The training accuracy is:-0.29206049997120087\n",
      "At random state 2, The test accuracy is:-0.34124260986825605\n",
      "\n",
      "\n",
      "At random state 3, The training accuracy is:-0.3218701737030851\n",
      "At random state 3, The test accuracy is:-0.22385203996792413\n",
      "\n",
      "\n",
      "At random state 4, The training accuracy is:-0.32782606738441233\n",
      "At random state 4, The test accuracy is:-0.18912795467440802\n",
      "\n",
      "\n",
      "At random state 5, The training accuracy is:-0.30282360828695554\n",
      "At random state 5, The test accuracy is:-0.30770247018397545\n",
      "\n",
      "\n",
      "At random state 6, The training accuracy is:-0.30097301389990117\n",
      "At random state 6, The test accuracy is:-0.29229429348822633\n",
      "\n",
      "\n",
      "At random state 7, The training accuracy is:-0.31571414622977256\n",
      "At random state 7, The test accuracy is:-0.2525181131637507\n",
      "\n",
      "\n",
      "At random state 8, The training accuracy is:-0.29795976558151205\n",
      "At random state 8, The test accuracy is:-0.3167260937336682\n",
      "\n",
      "\n",
      "At random state 9, The training accuracy is:-0.30648808481404466\n",
      "At random state 9, The test accuracy is:-0.29052428136179265\n",
      "\n",
      "\n",
      "At random state 10, The training accuracy is:-0.3093644417666578\n",
      "At random state 10, The test accuracy is:-0.27956010095102746\n",
      "\n",
      "\n",
      "At random state 11, The training accuracy is:-0.3096849995890355\n",
      "At random state 11, The test accuracy is:-0.2772745663247762\n",
      "\n",
      "\n",
      "At random state 12, The training accuracy is:-0.31721740441577284\n",
      "At random state 12, The test accuracy is:-0.2432438799587625\n",
      "\n",
      "\n",
      "At random state 13, The training accuracy is:-0.3113363032500568\n",
      "At random state 13, The test accuracy is:-0.25937109865609576\n",
      "\n",
      "\n",
      "At random state 14, The training accuracy is:-0.31588689363639055\n",
      "At random state 14, The test accuracy is:-0.26241612257233504\n",
      "\n",
      "\n",
      "At random state 15, The training accuracy is:-0.307203277731515\n",
      "At random state 15, The test accuracy is:-0.28968001439412505\n",
      "\n",
      "\n",
      "At random state 16, The training accuracy is:-0.30847529941794694\n",
      "At random state 16, The test accuracy is:-0.28393207147510335\n",
      "\n",
      "\n",
      "At random state 17, The training accuracy is:-0.3072437091770004\n",
      "At random state 17, The test accuracy is:-0.291245670727152\n",
      "\n",
      "\n",
      "At random state 18, The training accuracy is:-0.2953619310550618\n",
      "At random state 18, The test accuracy is:-0.3095342486889797\n",
      "\n",
      "\n",
      "At random state 19, The training accuracy is:-0.3018773945224389\n",
      "At random state 19, The test accuracy is:-0.3064124193459834\n",
      "\n",
      "\n",
      "At random state 20, The training accuracy is:-0.2993799823151867\n",
      "At random state 20, The test accuracy is:-0.3191730768962937\n",
      "\n",
      "\n",
      "At random state 21, The training accuracy is:-0.3075921895317749\n",
      "At random state 21, The test accuracy is:-0.28612352425285825\n",
      "\n",
      "\n",
      "At random state 22, The training accuracy is:-0.2994869411676533\n",
      "At random state 22, The test accuracy is:-0.32116829656908197\n",
      "\n",
      "\n",
      "At random state 23, The training accuracy is:-0.29251641669137896\n",
      "At random state 23, The test accuracy is:-0.33056608810797006\n",
      "\n",
      "\n",
      "At random state 24, The training accuracy is:-0.3019354606090756\n",
      "At random state 24, The test accuracy is:-0.31168566351254645\n",
      "\n",
      "\n",
      "At random state 25, The training accuracy is:-0.2986025736345176\n",
      "At random state 25, The test accuracy is:-0.3183934808828308\n",
      "\n",
      "\n",
      "At random state 26, The training accuracy is:-0.3007725503107681\n",
      "At random state 26, The test accuracy is:-0.30963497459413014\n",
      "\n",
      "\n",
      "At random state 27, The training accuracy is:-0.2970453811714715\n",
      "At random state 27, The test accuracy is:-0.32308140827678145\n",
      "\n",
      "\n",
      "At random state 28, The training accuracy is:-0.3083188778647332\n",
      "At random state 28, The test accuracy is:-0.28400384312081406\n",
      "\n",
      "\n",
      "At random state 29, The training accuracy is:-0.2909646628638871\n",
      "At random state 29, The test accuracy is:-0.3472721775059219\n",
      "\n",
      "\n",
      "At random state 30, The training accuracy is:-0.2818389131590152\n",
      "At random state 30, The test accuracy is:-0.3823882852359125\n",
      "\n",
      "\n",
      "At random state 31, The training accuracy is:-0.31293548203382493\n",
      "At random state 31, The test accuracy is:-0.271828756695738\n",
      "\n",
      "\n",
      "At random state 32, The training accuracy is:-0.2933470815950928\n",
      "At random state 32, The test accuracy is:-0.3366546466942846\n",
      "\n",
      "\n",
      "At random state 33, The training accuracy is:-0.3035252129201237\n",
      "At random state 33, The test accuracy is:-0.3042518665539199\n",
      "\n",
      "\n",
      "At random state 34, The training accuracy is:-0.3092455549651627\n",
      "At random state 34, The test accuracy is:-0.2765035473822558\n",
      "\n",
      "\n",
      "At random state 35, The training accuracy is:-0.31858439367457736\n",
      "At random state 35, The test accuracy is:-0.24758974398785705\n",
      "\n",
      "\n",
      "At random state 36, The training accuracy is:-0.29966637721747913\n",
      "At random state 36, The test accuracy is:-0.3145078359103419\n",
      "\n",
      "\n",
      "At random state 37, The training accuracy is:-0.31529230481670145\n",
      "At random state 37, The test accuracy is:-0.25086313155038\n",
      "\n",
      "\n",
      "At random state 38, The training accuracy is:-0.29275875118167716\n",
      "At random state 38, The test accuracy is:-0.339000481528431\n",
      "\n",
      "\n",
      "At random state 39, The training accuracy is:-0.3069947697418026\n",
      "At random state 39, The test accuracy is:-0.28949424501054055\n",
      "\n",
      "\n",
      "At random state 40, The training accuracy is:-0.2992053442281133\n",
      "At random state 40, The test accuracy is:-0.31476621449723585\n",
      "\n",
      "\n",
      "At random state 41, The training accuracy is:-0.31896049071062604\n",
      "At random state 41, The test accuracy is:-0.2405826971724614\n",
      "\n",
      "\n",
      "At random state 42, The training accuracy is:-0.3012221220478303\n",
      "At random state 42, The test accuracy is:-0.31247274487806875\n",
      "\n",
      "\n",
      "At random state 43, The training accuracy is:-0.2751230485216366\n",
      "At random state 43, The test accuracy is:-0.3737888630438445\n",
      "\n",
      "\n",
      "At random state 44, The training accuracy is:-0.3163698670432632\n",
      "At random state 44, The test accuracy is:-0.24570750726923607\n",
      "\n",
      "\n",
      "At random state 45, The training accuracy is:-0.31955820581890104\n",
      "At random state 45, The test accuracy is:-0.2469444569509026\n",
      "\n",
      "\n",
      "At random state 46, The training accuracy is:-0.2974690046851579\n",
      "At random state 46, The test accuracy is:-0.32722059589706487\n",
      "\n",
      "\n",
      "At random state 47, The training accuracy is:-0.3007809150465134\n",
      "At random state 47, The test accuracy is:-0.31481974145986513\n",
      "\n",
      "\n",
      "At random state 48, The training accuracy is:-0.3166602758804785\n",
      "At random state 48, The test accuracy is:-0.25379018950472\n",
      "\n",
      "\n",
      "At random state 49, The training accuracy is:-0.30913943609311734\n",
      "At random state 49, The test accuracy is:-0.28442195283713156\n",
      "\n",
      "\n",
      "At random state 50, The training accuracy is:-0.3082942507352966\n",
      "At random state 50, The test accuracy is:-0.2900692673725589\n",
      "\n",
      "\n",
      "At random state 51, The training accuracy is:-0.2914471833369128\n",
      "At random state 51, The test accuracy is:-0.3336379464557072\n",
      "\n",
      "\n",
      "At random state 52, The training accuracy is:-0.2987358654082467\n",
      "At random state 52, The test accuracy is:-0.3146596926018045\n",
      "\n",
      "\n",
      "At random state 53, The training accuracy is:-0.3045749601392779\n",
      "At random state 53, The test accuracy is:-0.2943078695387571\n",
      "\n",
      "\n",
      "At random state 54, The training accuracy is:-0.3090797456980333\n",
      "At random state 54, The test accuracy is:-0.28369820383656685\n",
      "\n",
      "\n",
      "At random state 55, The training accuracy is:-0.2957975834151102\n",
      "At random state 55, The test accuracy is:-0.3219562700241546\n",
      "\n",
      "\n",
      "At random state 56, The training accuracy is:-0.3229329223345818\n",
      "At random state 56, The test accuracy is:-0.21121201183352978\n",
      "\n",
      "\n",
      "At random state 57, The training accuracy is:-0.3084701145263702\n",
      "At random state 57, The test accuracy is:-0.288306007121908\n",
      "\n",
      "\n",
      "At random state 58, The training accuracy is:-0.31683443981584347\n",
      "At random state 58, The test accuracy is:-0.23790260054130963\n",
      "\n",
      "\n",
      "At random state 59, The training accuracy is:-0.2984402725933687\n",
      "At random state 59, The test accuracy is:-0.30232499346155917\n",
      "\n",
      "\n",
      "At random state 60, The training accuracy is:-0.29070782045287247\n",
      "At random state 60, The test accuracy is:-0.33261669296302043\n",
      "\n",
      "\n",
      "At random state 61, The training accuracy is:-0.3138037732035994\n",
      "At random state 61, The test accuracy is:-0.25942968116211096\n",
      "\n",
      "\n",
      "At random state 62, The training accuracy is:-0.3248128163124684\n",
      "At random state 62, The test accuracy is:-0.2183502599334569\n",
      "\n",
      "\n",
      "At random state 63, The training accuracy is:-0.31163235590693894\n",
      "At random state 63, The test accuracy is:-0.26999958790287004\n",
      "\n",
      "\n",
      "At random state 64, The training accuracy is:-0.30638975934898693\n",
      "At random state 64, The test accuracy is:-0.2934465277851187\n",
      "\n",
      "\n",
      "At random state 65, The training accuracy is:-0.3103030853123524\n",
      "At random state 65, The test accuracy is:-0.2749139691846868\n",
      "\n",
      "\n",
      "At random state 66, The training accuracy is:-0.31062984019506257\n",
      "At random state 66, The test accuracy is:-0.2765057758658448\n",
      "\n",
      "\n",
      "At random state 67, The training accuracy is:-0.30508479261028554\n",
      "At random state 67, The test accuracy is:-0.294320557498272\n",
      "\n",
      "\n",
      "At random state 68, The training accuracy is:-0.2991610250062089\n",
      "At random state 68, The test accuracy is:-0.3089570575453895\n",
      "\n",
      "\n",
      "At random state 69, The training accuracy is:-0.32634678341388945\n",
      "At random state 69, The test accuracy is:-0.2081926424373569\n",
      "\n",
      "\n",
      "At random state 70, The training accuracy is:-0.3072880405254299\n",
      "At random state 70, The test accuracy is:-0.2883868952891093\n",
      "\n",
      "\n",
      "At random state 71, The training accuracy is:-0.30894936754632496\n",
      "At random state 71, The test accuracy is:-0.2827675913678338\n",
      "\n",
      "\n",
      "At random state 72, The training accuracy is:-0.3062808710571936\n",
      "At random state 72, The test accuracy is:-0.2822432905528548\n",
      "\n",
      "\n",
      "At random state 73, The training accuracy is:-0.2974604775647376\n",
      "At random state 73, The test accuracy is:-0.3201764704300306\n",
      "\n",
      "\n",
      "At random state 74, The training accuracy is:-0.28930456558347406\n",
      "At random state 74, The test accuracy is:-0.34515100716765257\n",
      "\n",
      "\n",
      "At random state 75, The training accuracy is:-0.30070902163401125\n",
      "At random state 75, The test accuracy is:-0.3131298626687633\n",
      "\n",
      "\n",
      "At random state 76, The training accuracy is:-0.31011748200711353\n",
      "At random state 76, The test accuracy is:-0.2790612556384944\n",
      "\n",
      "\n",
      "At random state 77, The training accuracy is:-0.32723818934674553\n",
      "At random state 77, The test accuracy is:-0.20736077623869686\n",
      "\n",
      "\n",
      "At random state 78, The training accuracy is:-0.30331578183755825\n",
      "At random state 78, The test accuracy is:-0.3030874061215072\n",
      "\n",
      "\n",
      "At random state 79, The training accuracy is:-0.3045780866265171\n",
      "At random state 79, The test accuracy is:-0.2963867013826279\n",
      "\n",
      "\n",
      "At random state 80, The training accuracy is:-0.2957663250332364\n",
      "At random state 80, The test accuracy is:-0.3266056457665377\n",
      "\n",
      "\n",
      "At random state 81, The training accuracy is:-0.2998926565519674\n",
      "At random state 81, The test accuracy is:-0.3014510182885013\n",
      "\n",
      "\n",
      "At random state 82, The training accuracy is:-0.2943205853582441\n",
      "At random state 82, The test accuracy is:-0.32958223107232854\n",
      "\n",
      "\n",
      "At random state 83, The training accuracy is:-0.30787256979736277\n",
      "At random state 83, The test accuracy is:-0.2825537903704539\n",
      "\n",
      "\n",
      "At random state 84, The training accuracy is:-0.2879936516831765\n",
      "At random state 84, The test accuracy is:-0.3472444937713721\n",
      "\n",
      "\n",
      "At random state 85, The training accuracy is:-0.28886388523291673\n",
      "At random state 85, The test accuracy is:-0.34074363032875277\n",
      "\n",
      "\n",
      "At random state 86, The training accuracy is:-0.3206748605055927\n",
      "At random state 86, The test accuracy is:-0.22855650200594702\n",
      "\n",
      "\n",
      "At random state 87, The training accuracy is:-0.2983671612420332\n",
      "At random state 87, The test accuracy is:-0.31708781777972184\n",
      "\n",
      "\n",
      "At random state 88, The training accuracy is:-0.31017136321256944\n",
      "At random state 88, The test accuracy is:-0.27459406277615384\n",
      "\n",
      "\n",
      "At random state 89, The training accuracy is:-0.2916556821516718\n",
      "At random state 89, The test accuracy is:-0.3432944856219694\n",
      "\n",
      "\n",
      "At random state 90, The training accuracy is:-0.31514640152575213\n",
      "At random state 90, The test accuracy is:-0.2620893263943731\n",
      "\n",
      "\n",
      "At random state 91, The training accuracy is:-0.3043221983660672\n",
      "At random state 91, The test accuracy is:-0.29979635434489105\n",
      "\n",
      "\n",
      "At random state 92, The training accuracy is:-0.30262786580439793\n",
      "At random state 92, The test accuracy is:-0.30189107090387257\n",
      "\n",
      "\n",
      "At random state 93, The training accuracy is:-0.2996894275080346\n",
      "At random state 93, The test accuracy is:-0.3140637804596109\n",
      "\n",
      "\n",
      "At random state 94, The training accuracy is:-0.29307981035700215\n",
      "At random state 94, The test accuracy is:-0.326198752000339\n",
      "\n",
      "\n",
      "At random state 95, The training accuracy is:-0.29753598099751855\n",
      "At random state 95, The test accuracy is:-0.312488567223404\n",
      "\n",
      "\n",
      "At random state 96, The training accuracy is:-0.30853150677713315\n",
      "At random state 96, The test accuracy is:-0.2813261007886184\n",
      "\n",
      "\n",
      "At random state 97, The training accuracy is:-0.3120738706657519\n",
      "At random state 97, The test accuracy is:-0.26539321569456575\n",
      "\n",
      "\n",
      "At random state 98, The training accuracy is:-0.3176561010019211\n",
      "At random state 98, The test accuracy is:-0.23595133891760056\n",
      "\n",
      "\n",
      "At random state 99, The training accuracy is:-0.2923206421276401\n",
      "At random state 99, The test accuracy is:-0.3451632612653024\n",
      "\n",
      "\n"
     ]
    }
   ],
   "source": [
    "#Let's find the best random state in below cell\n",
    "\n",
    "from sklearn.linear_model import LinearRegression\n",
    "\n",
    "\n",
    "LR=LinearRegression()\n",
    "\n",
    "for i in range(0,100):\n",
    "    x_train,x_test,y_train,y_test=train_test_split(x,y,test_size=0.22,random_state=i)\n",
    "    LR.fit(x_train,y_train)\n",
    "    LR_predict_train=LR.predict(x_train)\n",
    "    LR_predict_test=LR.predict(x_test)\n",
    "    print(f'At random state {i}, The training accuracy is:-{r2_score(y_train,LR_predict_train)}')\n",
    "    print(f'At random state {i}, The test accuracy is:-{r2_score(y_test,LR_predict_test)}')\n",
    "    print('\\n')"
   ]
  },
  {
   "cell_type": "markdown",
   "id": "6f71f438",
   "metadata": {},
   "source": [
    "random state=24 giving highest accuracy, choosing that as random state"
   ]
  },
  {
   "cell_type": "code",
   "execution_count": 55,
   "id": "e9479d5f",
   "metadata": {},
   "outputs": [],
   "source": [
    "#splitting the data into 78% training and 22% testing\n",
    "x_train,x_test,y_train,y_test=train_test_split(x,y,test_size=0.22,random_state=24)"
   ]
  },
  {
   "cell_type": "code",
   "execution_count": 56,
   "id": "13f6c265",
   "metadata": {},
   "outputs": [
    {
     "data": {
      "text/plain": [
       "(1183, 8)"
      ]
     },
     "execution_count": 56,
     "metadata": {},
     "output_type": "execute_result"
    }
   ],
   "source": [
    "x_train.shape"
   ]
  },
  {
   "cell_type": "code",
   "execution_count": 57,
   "id": "4e8126dc",
   "metadata": {},
   "outputs": [
    {
     "data": {
      "text/plain": [
       "(1183,)"
      ]
     },
     "execution_count": 57,
     "metadata": {},
     "output_type": "execute_result"
    }
   ],
   "source": [
    "y_train.shape"
   ]
  },
  {
   "cell_type": "code",
   "execution_count": 58,
   "id": "b8c7196e",
   "metadata": {},
   "outputs": [
    {
     "data": {
      "text/plain": [
       "(334, 8)"
      ]
     },
     "execution_count": 58,
     "metadata": {},
     "output_type": "execute_result"
    }
   ],
   "source": [
    "x_test.shape"
   ]
  },
  {
   "cell_type": "code",
   "execution_count": 59,
   "id": "fb3dfd33",
   "metadata": {},
   "outputs": [
    {
     "data": {
      "text/plain": [
       "(334,)"
      ]
     },
     "execution_count": 59,
     "metadata": {},
     "output_type": "execute_result"
    }
   ],
   "source": [
    "y_test.shape"
   ]
  },
  {
   "cell_type": "code",
   "execution_count": 105,
   "id": "bfcaa082",
   "metadata": {},
   "outputs": [],
   "source": [
    "X_train,X_test,y_train,y_test=train_test_split(x,y,test_size=0.2,random_state=42)"
   ]
  },
  {
   "cell_type": "markdown",
   "id": "179ebb7e",
   "metadata": {},
   "source": [
    "***MODEL BUILDING:***"
   ]
  },
  {
   "cell_type": "markdown",
   "id": "26e90e17",
   "metadata": {},
   "source": [
    "***Linear Regression***"
   ]
  },
  {
   "cell_type": "code",
   "execution_count": 111,
   "id": "bc3f907a",
   "metadata": {},
   "outputs": [],
   "source": [
    "from sklearn.linear_model import LinearRegression\n",
    "\n",
    "def reg(model,x,y):\n",
    "    X_train,X_test,Y_train,Y_test=train_test_split(x,y,test_size=.25,random_state=672)\n",
    "    \n",
    "    #model fitting\n",
    "    model.fit(X_train,Y_train)\n",
    "    \n",
    "    #predicting the model\n",
    "    pred=model.predict(X_test)\n",
    "    \n",
    "    \n",
    "    #Mean squared error\n",
    "    print('mean square error',mean_squared_error(pred,Y_test))\n",
    "    \n",
    "    #R2_score\n",
    "    r2=r2_score(pred,Y_test,multioutput=\"variance_weighted\")*100\n",
    "    print('r2_score',r2)\n",
    "    \n",
    "    #cv score\n",
    "    cv_score=cross_val_score(model,x,y,cv=5).mean()*100\n",
    "    print('cv score ',cv_score)\n",
    "    #final score \n",
    "    result=r2-cv_score\n",
    "    print('final score =',result)"
   ]
  },
  {
   "cell_type": "code",
   "execution_count": 112,
   "id": "e6886a01",
   "metadata": {},
   "outputs": [
    {
     "name": "stdout",
     "output_type": "stream",
     "text": [
      "mean square error 0.024323936065627667\n",
      "r2_score -118.50222193953756\n",
      "cv score  0.3501999874166595\n",
      "final score = -118.85242192695422\n"
     ]
    }
   ],
   "source": [
    "model=LinearRegression()\n",
    "reg(model,x,y)"
   ]
  },
  {
   "cell_type": "code",
   "execution_count": 115,
   "id": "f242c25b",
   "metadata": {},
   "outputs": [
    {
     "name": "stdout",
     "output_type": "stream",
     "text": [
      "mean square error 0.0060372650263157916\n",
      "r2_score 77.62079703484024\n",
      "cv score  10.825091123005642\n",
      "final score = 66.7957059118346\n"
     ]
    }
   ],
   "source": [
    "#Random forest regressor\n",
    "model=RandomForestRegressor()\n",
    "reg(model,x,y)"
   ]
  },
  {
   "cell_type": "code",
   "execution_count": 118,
   "id": "b48c9926",
   "metadata": {},
   "outputs": [
    {
     "name": "stdout",
     "output_type": "stream",
     "text": [
      "mean square error 0.013302848157962604\n",
      "r2_score 20.522109540847243\n",
      "cv score  14.376962132053464\n",
      "final score = 6.145147408793779\n"
     ]
    }
   ],
   "source": [
    "#AdaBoostRegressor\n",
    "model=AdaBoostRegressor()\n",
    "reg(model,x,y)"
   ]
  },
  {
   "cell_type": "code",
   "execution_count": 119,
   "id": "7871c493",
   "metadata": {},
   "outputs": [
    {
     "name": "stdout",
     "output_type": "stream",
     "text": [
      "mean square error 0.010937028160358802\n",
      "r2_score 57.3847501243124\n",
      "cv score  22.388208930172038\n",
      "final score = 34.99654119414036\n"
     ]
    }
   ],
   "source": [
    "#support vector Regressor\n",
    "model=SVR()\n",
    "reg(model,x,y)"
   ]
  },
  {
   "cell_type": "code",
   "execution_count": 120,
   "id": "84ca5323",
   "metadata": {},
   "outputs": [
    {
     "name": "stdout",
     "output_type": "stream",
     "text": [
      "mean square error 0.012698157894736843\n",
      "r2_score 65.9646028632579\n",
      "cv score  -43.64236906128324\n",
      "final score = 109.60697192454114\n"
     ]
    }
   ],
   "source": [
    "#dtr\n",
    "model=DecisionTreeRegressor()\n",
    "reg(model,x,y)"
   ]
  },
  {
   "cell_type": "code",
   "execution_count": 121,
   "id": "f5688a5e",
   "metadata": {},
   "outputs": [
    {
     "name": "stdout",
     "output_type": "stream",
     "text": [
      "mean square error 0.02436187015193265\n",
      "r2_score -134.19758996231909\n",
      "cv score  2.6594920097500774\n",
      "final score = -136.85708197206915\n"
     ]
    }
   ],
   "source": [
    "#Ridge\n",
    "model=Ridge(alpha=1)\n",
    "reg(model,x,y)"
   ]
  },
  {
   "cell_type": "code",
   "execution_count": 122,
   "id": "d8a48a30",
   "metadata": {},
   "outputs": [
    {
     "name": "stdout",
     "output_type": "stream",
     "text": [
      "mean square error 0.03770812575116709\n",
      "r2_score 0.0\n",
      "cv score  -3.6061024324492985\n",
      "final score = 3.6061024324492985\n"
     ]
    }
   ],
   "source": [
    "#Lasso\n",
    "model=Lasso(alpha=1)\n",
    "reg(model,x,y)"
   ]
  },
  {
   "cell_type": "code",
   "execution_count": 123,
   "id": "131e7099",
   "metadata": {},
   "outputs": [
    {
     "name": "stdout",
     "output_type": "stream",
     "text": [
      "mean square error 0.004914427088289776\n",
      "r2_score 85.02325989521131\n",
      "cv score  -16.735575598956643\n",
      "final score = 101.75883549416795\n"
     ]
    }
   ],
   "source": [
    "#XGBRegressor\n",
    "model=XGBRegressor()\n",
    "reg(model,x,y)"
   ]
  },
  {
   "cell_type": "code",
   "execution_count": 124,
   "id": "ca1d614f",
   "metadata": {},
   "outputs": [],
   "source": [
    "# Hyper parameter tuning for best ML model\n",
    "\n",
    "#XGBRegressor\n",
    "fmod_param={'n_estimators' : [200, 400, 600],\n",
    "              'gamma' : [2.0, 3.0, 4.0],\n",
    "              'max_depth' : [4, 6, 8],\n",
    "              'n_jobs' : [-2, -1, 1]\n",
    "             }"
   ]
  },
  {
   "cell_type": "code",
   "execution_count": 125,
   "id": "f3914c13",
   "metadata": {},
   "outputs": [],
   "source": [
    "GSCV=GridSearchCV(XGBRegressor(),fmod_param,cv=5)"
   ]
  },
  {
   "cell_type": "code",
   "execution_count": 128,
   "id": "d6197a99",
   "metadata": {},
   "outputs": [
    {
     "data": {
      "text/html": [
       "<style>#sk-container-id-1 {color: black;background-color: white;}#sk-container-id-1 pre{padding: 0;}#sk-container-id-1 div.sk-toggleable {background-color: white;}#sk-container-id-1 label.sk-toggleable__label {cursor: pointer;display: block;width: 100%;margin-bottom: 0;padding: 0.3em;box-sizing: border-box;text-align: center;}#sk-container-id-1 label.sk-toggleable__label-arrow:before {content: \"▸\";float: left;margin-right: 0.25em;color: #696969;}#sk-container-id-1 label.sk-toggleable__label-arrow:hover:before {color: black;}#sk-container-id-1 div.sk-estimator:hover label.sk-toggleable__label-arrow:before {color: black;}#sk-container-id-1 div.sk-toggleable__content {max-height: 0;max-width: 0;overflow: hidden;text-align: left;background-color: #f0f8ff;}#sk-container-id-1 div.sk-toggleable__content pre {margin: 0.2em;color: black;border-radius: 0.25em;background-color: #f0f8ff;}#sk-container-id-1 input.sk-toggleable__control:checked~div.sk-toggleable__content {max-height: 200px;max-width: 100%;overflow: auto;}#sk-container-id-1 input.sk-toggleable__control:checked~label.sk-toggleable__label-arrow:before {content: \"▾\";}#sk-container-id-1 div.sk-estimator input.sk-toggleable__control:checked~label.sk-toggleable__label {background-color: #d4ebff;}#sk-container-id-1 div.sk-label input.sk-toggleable__control:checked~label.sk-toggleable__label {background-color: #d4ebff;}#sk-container-id-1 input.sk-hidden--visually {border: 0;clip: rect(1px 1px 1px 1px);clip: rect(1px, 1px, 1px, 1px);height: 1px;margin: -1px;overflow: hidden;padding: 0;position: absolute;width: 1px;}#sk-container-id-1 div.sk-estimator {font-family: monospace;background-color: #f0f8ff;border: 1px dotted black;border-radius: 0.25em;box-sizing: border-box;margin-bottom: 0.5em;}#sk-container-id-1 div.sk-estimator:hover {background-color: #d4ebff;}#sk-container-id-1 div.sk-parallel-item::after {content: \"\";width: 100%;border-bottom: 1px solid gray;flex-grow: 1;}#sk-container-id-1 div.sk-label:hover label.sk-toggleable__label {background-color: #d4ebff;}#sk-container-id-1 div.sk-serial::before {content: \"\";position: absolute;border-left: 1px solid gray;box-sizing: border-box;top: 0;bottom: 0;left: 50%;z-index: 0;}#sk-container-id-1 div.sk-serial {display: flex;flex-direction: column;align-items: center;background-color: white;padding-right: 0.2em;padding-left: 0.2em;position: relative;}#sk-container-id-1 div.sk-item {position: relative;z-index: 1;}#sk-container-id-1 div.sk-parallel {display: flex;align-items: stretch;justify-content: center;background-color: white;position: relative;}#sk-container-id-1 div.sk-item::before, #sk-container-id-1 div.sk-parallel-item::before {content: \"\";position: absolute;border-left: 1px solid gray;box-sizing: border-box;top: 0;bottom: 0;left: 50%;z-index: -1;}#sk-container-id-1 div.sk-parallel-item {display: flex;flex-direction: column;z-index: 1;position: relative;background-color: white;}#sk-container-id-1 div.sk-parallel-item:first-child::after {align-self: flex-end;width: 50%;}#sk-container-id-1 div.sk-parallel-item:last-child::after {align-self: flex-start;width: 50%;}#sk-container-id-1 div.sk-parallel-item:only-child::after {width: 0;}#sk-container-id-1 div.sk-dashed-wrapped {border: 1px dashed gray;margin: 0 0.4em 0.5em 0.4em;box-sizing: border-box;padding-bottom: 0.4em;background-color: white;}#sk-container-id-1 div.sk-label label {font-family: monospace;font-weight: bold;display: inline-block;line-height: 1.2em;}#sk-container-id-1 div.sk-label-container {text-align: center;}#sk-container-id-1 div.sk-container {/* jupyter's `normalize.less` sets `[hidden] { display: none; }` but bootstrap.min.css set `[hidden] { display: none !important; }` so we also need the `!important` here to be able to override the default hidden behavior on the sphinx rendered scikit-learn.org. See: https://github.com/scikit-learn/scikit-learn/issues/21755 */display: inline-block !important;position: relative;}#sk-container-id-1 div.sk-text-repr-fallback {display: none;}</style><div id=\"sk-container-id-1\" class=\"sk-top-container\"><div class=\"sk-text-repr-fallback\"><pre>GridSearchCV(cv=5,\n",
       "             estimator=XGBRegressor(base_score=None, booster=None,\n",
       "                                    callbacks=None, colsample_bylevel=None,\n",
       "                                    colsample_bynode=None,\n",
       "                                    colsample_bytree=None, device=None,\n",
       "                                    early_stopping_rounds=None,\n",
       "                                    enable_categorical=False, eval_metric=None,\n",
       "                                    feature_types=None, gamma=None,\n",
       "                                    grow_policy=None, importance_type=None,\n",
       "                                    interaction_constraints=None,\n",
       "                                    learning_rate=None, m...\n",
       "                                    max_cat_threshold=None,\n",
       "                                    max_cat_to_onehot=None, max_delta_step=None,\n",
       "                                    max_depth=None, max_leaves=None,\n",
       "                                    min_child_weight=None, missing=nan,\n",
       "                                    monotone_constraints=None,\n",
       "                                    multi_strategy=None, n_estimators=None,\n",
       "                                    n_jobs=None, num_parallel_tree=None,\n",
       "                                    random_state=None, ...),\n",
       "             param_grid={&#x27;gamma&#x27;: [2.0, 3.0, 4.0], &#x27;max_depth&#x27;: [4, 6, 8],\n",
       "                         &#x27;n_estimators&#x27;: [200, 400, 600],\n",
       "                         &#x27;n_jobs&#x27;: [-2, -1, 1]})</pre><b>In a Jupyter environment, please rerun this cell to show the HTML representation or trust the notebook. <br />On GitHub, the HTML representation is unable to render, please try loading this page with nbviewer.org.</b></div><div class=\"sk-container\" hidden><div class=\"sk-item sk-dashed-wrapped\"><div class=\"sk-label-container\"><div class=\"sk-label sk-toggleable\"><input class=\"sk-toggleable__control sk-hidden--visually\" id=\"sk-estimator-id-1\" type=\"checkbox\" ><label for=\"sk-estimator-id-1\" class=\"sk-toggleable__label sk-toggleable__label-arrow\">GridSearchCV</label><div class=\"sk-toggleable__content\"><pre>GridSearchCV(cv=5,\n",
       "             estimator=XGBRegressor(base_score=None, booster=None,\n",
       "                                    callbacks=None, colsample_bylevel=None,\n",
       "                                    colsample_bynode=None,\n",
       "                                    colsample_bytree=None, device=None,\n",
       "                                    early_stopping_rounds=None,\n",
       "                                    enable_categorical=False, eval_metric=None,\n",
       "                                    feature_types=None, gamma=None,\n",
       "                                    grow_policy=None, importance_type=None,\n",
       "                                    interaction_constraints=None,\n",
       "                                    learning_rate=None, m...\n",
       "                                    max_cat_threshold=None,\n",
       "                                    max_cat_to_onehot=None, max_delta_step=None,\n",
       "                                    max_depth=None, max_leaves=None,\n",
       "                                    min_child_weight=None, missing=nan,\n",
       "                                    monotone_constraints=None,\n",
       "                                    multi_strategy=None, n_estimators=None,\n",
       "                                    n_jobs=None, num_parallel_tree=None,\n",
       "                                    random_state=None, ...),\n",
       "             param_grid={&#x27;gamma&#x27;: [2.0, 3.0, 4.0], &#x27;max_depth&#x27;: [4, 6, 8],\n",
       "                         &#x27;n_estimators&#x27;: [200, 400, 600],\n",
       "                         &#x27;n_jobs&#x27;: [-2, -1, 1]})</pre></div></div></div><div class=\"sk-parallel\"><div class=\"sk-parallel-item\"><div class=\"sk-item\"><div class=\"sk-label-container\"><div class=\"sk-label sk-toggleable\"><input class=\"sk-toggleable__control sk-hidden--visually\" id=\"sk-estimator-id-2\" type=\"checkbox\" ><label for=\"sk-estimator-id-2\" class=\"sk-toggleable__label sk-toggleable__label-arrow\">estimator: XGBRegressor</label><div class=\"sk-toggleable__content\"><pre>XGBRegressor(base_score=None, booster=None, callbacks=None,\n",
       "             colsample_bylevel=None, colsample_bynode=None,\n",
       "             colsample_bytree=None, device=None, early_stopping_rounds=None,\n",
       "             enable_categorical=False, eval_metric=None, feature_types=None,\n",
       "             gamma=None, grow_policy=None, importance_type=None,\n",
       "             interaction_constraints=None, learning_rate=None, max_bin=None,\n",
       "             max_cat_threshold=None, max_cat_to_onehot=None,\n",
       "             max_delta_step=None, max_depth=None, max_leaves=None,\n",
       "             min_child_weight=None, missing=nan, monotone_constraints=None,\n",
       "             multi_strategy=None, n_estimators=None, n_jobs=None,\n",
       "             num_parallel_tree=None, random_state=None, ...)</pre></div></div></div><div class=\"sk-serial\"><div class=\"sk-item\"><div class=\"sk-estimator sk-toggleable\"><input class=\"sk-toggleable__control sk-hidden--visually\" id=\"sk-estimator-id-3\" type=\"checkbox\" ><label for=\"sk-estimator-id-3\" class=\"sk-toggleable__label sk-toggleable__label-arrow\">XGBRegressor</label><div class=\"sk-toggleable__content\"><pre>XGBRegressor(base_score=None, booster=None, callbacks=None,\n",
       "             colsample_bylevel=None, colsample_bynode=None,\n",
       "             colsample_bytree=None, device=None, early_stopping_rounds=None,\n",
       "             enable_categorical=False, eval_metric=None, feature_types=None,\n",
       "             gamma=None, grow_policy=None, importance_type=None,\n",
       "             interaction_constraints=None, learning_rate=None, max_bin=None,\n",
       "             max_cat_threshold=None, max_cat_to_onehot=None,\n",
       "             max_delta_step=None, max_depth=None, max_leaves=None,\n",
       "             min_child_weight=None, missing=nan, monotone_constraints=None,\n",
       "             multi_strategy=None, n_estimators=None, n_jobs=None,\n",
       "             num_parallel_tree=None, random_state=None, ...)</pre></div></div></div></div></div></div></div></div></div></div>"
      ],
      "text/plain": [
       "GridSearchCV(cv=5,\n",
       "             estimator=XGBRegressor(base_score=None, booster=None,\n",
       "                                    callbacks=None, colsample_bylevel=None,\n",
       "                                    colsample_bynode=None,\n",
       "                                    colsample_bytree=None, device=None,\n",
       "                                    early_stopping_rounds=None,\n",
       "                                    enable_categorical=False, eval_metric=None,\n",
       "                                    feature_types=None, gamma=None,\n",
       "                                    grow_policy=None, importance_type=None,\n",
       "                                    interaction_constraints=None,\n",
       "                                    learning_rate=None, m...\n",
       "                                    max_cat_threshold=None,\n",
       "                                    max_cat_to_onehot=None, max_delta_step=None,\n",
       "                                    max_depth=None, max_leaves=None,\n",
       "                                    min_child_weight=None, missing=nan,\n",
       "                                    monotone_constraints=None,\n",
       "                                    multi_strategy=None, n_estimators=None,\n",
       "                                    n_jobs=None, num_parallel_tree=None,\n",
       "                                    random_state=None, ...),\n",
       "             param_grid={'gamma': [2.0, 3.0, 4.0], 'max_depth': [4, 6, 8],\n",
       "                         'n_estimators': [200, 400, 600],\n",
       "                         'n_jobs': [-2, -1, 1]})"
      ]
     },
     "execution_count": 128,
     "metadata": {},
     "output_type": "execute_result"
    }
   ],
   "source": [
    "GSCV.fit(X_train,y_train)"
   ]
  },
  {
   "cell_type": "code",
   "execution_count": 129,
   "id": "37da2386",
   "metadata": {},
   "outputs": [
    {
     "data": {
      "text/plain": [
       "{'gamma': 2.0, 'max_depth': 4, 'n_estimators': 200, 'n_jobs': -2}"
      ]
     },
     "execution_count": 129,
     "metadata": {},
     "output_type": "execute_result"
    }
   ],
   "source": [
    "GSCV.best_params_"
   ]
  },
  {
   "cell_type": "code",
   "execution_count": 130,
   "id": "0c7026c4",
   "metadata": {},
   "outputs": [
    {
     "data": {
      "text/plain": [
       "0.3110857468245221"
      ]
     },
     "execution_count": 130,
     "metadata": {},
     "output_type": "execute_result"
    }
   ],
   "source": [
    "GSCV.best_score_"
   ]
  },
  {
   "cell_type": "code",
   "execution_count": 135,
   "id": "ae256fca",
   "metadata": {},
   "outputs": [
    {
     "name": "stdout",
     "output_type": "stream",
     "text": [
      "R2 score for the Best Model is: 37.65992241657054\n"
     ]
    }
   ],
   "source": [
    "Final_Model = XGBRegressor(gamma=2.0, max_depth=8, n_estimators=200, n_jobs=-2)\n",
    "Classifier = Final_Model.fit(X_train, y_train)\n",
    "fmod_pred = Final_Model.predict(X_test)\n",
    "fmod_r2 = r2_score(y_test, fmod_pred)*100\n",
    "print(\"R2 score for the Best Model is:\", fmod_r2)"
   ]
  },
  {
   "cell_type": "code",
   "execution_count": null,
   "id": "5a8b7845",
   "metadata": {},
   "outputs": [],
   "source": []
  },
  {
   "cell_type": "code",
   "execution_count": null,
   "id": "4d3350a8",
   "metadata": {},
   "outputs": [],
   "source": []
  },
  {
   "cell_type": "code",
   "execution_count": null,
   "id": "5bd44751",
   "metadata": {},
   "outputs": [],
   "source": []
  },
  {
   "cell_type": "code",
   "execution_count": 100,
   "id": "ad6a855c",
   "metadata": {},
   "outputs": [],
   "source": []
  },
  {
   "cell_type": "code",
   "execution_count": 97,
   "id": "1e8938ac",
   "metadata": {},
   "outputs": [],
   "source": []
  },
  {
   "cell_type": "code",
   "execution_count": 96,
   "id": "1a5f1bd1",
   "metadata": {},
   "outputs": [],
   "source": []
  },
  {
   "cell_type": "code",
   "execution_count": 98,
   "id": "25b3e7a9",
   "metadata": {},
   "outputs": [],
   "source": []
  },
  {
   "cell_type": "code",
   "execution_count": null,
   "id": "ad2c029a",
   "metadata": {},
   "outputs": [],
   "source": []
  },
  {
   "cell_type": "code",
   "execution_count": 103,
   "id": "00c6a859",
   "metadata": {},
   "outputs": [],
   "source": []
  },
  {
   "cell_type": "code",
   "execution_count": null,
   "id": "68ee6601",
   "metadata": {},
   "outputs": [],
   "source": []
  },
  {
   "cell_type": "code",
   "execution_count": null,
   "id": "6ae91ab5",
   "metadata": {},
   "outputs": [],
   "source": []
  },
  {
   "cell_type": "code",
   "execution_count": null,
   "id": "1fa7ff24",
   "metadata": {},
   "outputs": [],
   "source": []
  },
  {
   "cell_type": "code",
   "execution_count": null,
   "id": "cdf4639b",
   "metadata": {},
   "outputs": [],
   "source": []
  }
 ],
 "metadata": {
  "kernelspec": {
   "display_name": "Python 3 (ipykernel)",
   "language": "python",
   "name": "python3"
  },
  "language_info": {
   "codemirror_mode": {
    "name": "ipython",
    "version": 3
   },
   "file_extension": ".py",
   "mimetype": "text/x-python",
   "name": "python",
   "nbconvert_exporter": "python",
   "pygments_lexer": "ipython3",
   "version": "3.10.9"
  }
 },
 "nbformat": 4,
 "nbformat_minor": 5
}
